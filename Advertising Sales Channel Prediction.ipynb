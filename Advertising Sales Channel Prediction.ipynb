{
 "cells": [
  {
   "cell_type": "code",
   "execution_count": 1,
   "id": "a262a5e3",
   "metadata": {},
   "outputs": [],
   "source": [
    "import numpy as np\n",
    "import pandas as pd\n",
    "import matplotlib.pyplot as plt\n",
    "import seaborn as sns"
   ]
  },
  {
   "cell_type": "code",
   "execution_count": 2,
   "id": "8ce88e87",
   "metadata": {},
   "outputs": [
    {
     "data": {
      "text/html": [
       "<div>\n",
       "<style scoped>\n",
       "    .dataframe tbody tr th:only-of-type {\n",
       "        vertical-align: middle;\n",
       "    }\n",
       "\n",
       "    .dataframe tbody tr th {\n",
       "        vertical-align: top;\n",
       "    }\n",
       "\n",
       "    .dataframe thead th {\n",
       "        text-align: right;\n",
       "    }\n",
       "</style>\n",
       "<table border=\"1\" class=\"dataframe\">\n",
       "  <thead>\n",
       "    <tr style=\"text-align: right;\">\n",
       "      <th></th>\n",
       "      <th>Unnamed: 0</th>\n",
       "      <th>TV</th>\n",
       "      <th>radio</th>\n",
       "      <th>newspaper</th>\n",
       "      <th>sales</th>\n",
       "    </tr>\n",
       "  </thead>\n",
       "  <tbody>\n",
       "    <tr>\n",
       "      <th>0</th>\n",
       "      <td>1</td>\n",
       "      <td>230.1</td>\n",
       "      <td>37.8</td>\n",
       "      <td>69.2</td>\n",
       "      <td>22.1</td>\n",
       "    </tr>\n",
       "    <tr>\n",
       "      <th>1</th>\n",
       "      <td>2</td>\n",
       "      <td>44.5</td>\n",
       "      <td>39.3</td>\n",
       "      <td>45.1</td>\n",
       "      <td>10.4</td>\n",
       "    </tr>\n",
       "    <tr>\n",
       "      <th>2</th>\n",
       "      <td>3</td>\n",
       "      <td>17.2</td>\n",
       "      <td>45.9</td>\n",
       "      <td>69.3</td>\n",
       "      <td>9.3</td>\n",
       "    </tr>\n",
       "    <tr>\n",
       "      <th>3</th>\n",
       "      <td>4</td>\n",
       "      <td>151.5</td>\n",
       "      <td>41.3</td>\n",
       "      <td>58.5</td>\n",
       "      <td>18.5</td>\n",
       "    </tr>\n",
       "    <tr>\n",
       "      <th>4</th>\n",
       "      <td>5</td>\n",
       "      <td>180.8</td>\n",
       "      <td>10.8</td>\n",
       "      <td>58.4</td>\n",
       "      <td>12.9</td>\n",
       "    </tr>\n",
       "    <tr>\n",
       "      <th>...</th>\n",
       "      <td>...</td>\n",
       "      <td>...</td>\n",
       "      <td>...</td>\n",
       "      <td>...</td>\n",
       "      <td>...</td>\n",
       "    </tr>\n",
       "    <tr>\n",
       "      <th>195</th>\n",
       "      <td>196</td>\n",
       "      <td>38.2</td>\n",
       "      <td>3.7</td>\n",
       "      <td>13.8</td>\n",
       "      <td>7.6</td>\n",
       "    </tr>\n",
       "    <tr>\n",
       "      <th>196</th>\n",
       "      <td>197</td>\n",
       "      <td>94.2</td>\n",
       "      <td>4.9</td>\n",
       "      <td>8.1</td>\n",
       "      <td>9.7</td>\n",
       "    </tr>\n",
       "    <tr>\n",
       "      <th>197</th>\n",
       "      <td>198</td>\n",
       "      <td>177.0</td>\n",
       "      <td>9.3</td>\n",
       "      <td>6.4</td>\n",
       "      <td>12.8</td>\n",
       "    </tr>\n",
       "    <tr>\n",
       "      <th>198</th>\n",
       "      <td>199</td>\n",
       "      <td>283.6</td>\n",
       "      <td>42.0</td>\n",
       "      <td>66.2</td>\n",
       "      <td>25.5</td>\n",
       "    </tr>\n",
       "    <tr>\n",
       "      <th>199</th>\n",
       "      <td>200</td>\n",
       "      <td>232.1</td>\n",
       "      <td>8.6</td>\n",
       "      <td>8.7</td>\n",
       "      <td>13.4</td>\n",
       "    </tr>\n",
       "  </tbody>\n",
       "</table>\n",
       "<p>200 rows × 5 columns</p>\n",
       "</div>"
      ],
      "text/plain": [
       "     Unnamed: 0     TV  radio  newspaper  sales\n",
       "0             1  230.1   37.8       69.2   22.1\n",
       "1             2   44.5   39.3       45.1   10.4\n",
       "2             3   17.2   45.9       69.3    9.3\n",
       "3             4  151.5   41.3       58.5   18.5\n",
       "4             5  180.8   10.8       58.4   12.9\n",
       "..          ...    ...    ...        ...    ...\n",
       "195         196   38.2    3.7       13.8    7.6\n",
       "196         197   94.2    4.9        8.1    9.7\n",
       "197         198  177.0    9.3        6.4   12.8\n",
       "198         199  283.6   42.0       66.2   25.5\n",
       "199         200  232.1    8.6        8.7   13.4\n",
       "\n",
       "[200 rows x 5 columns]"
      ]
     },
     "execution_count": 2,
     "metadata": {},
     "output_type": "execute_result"
    }
   ],
   "source": [
    "df=pd.read_csv('https://raw.githubusercontent.com/dsrscientist/DSData/master/Advertising.csv')\n",
    "df"
   ]
  },
  {
   "cell_type": "markdown",
   "id": "bd48fd59",
   "metadata": {},
   "source": [
    "- Rows-200\n",
    "- Columns- 5"
   ]
  },
  {
   "cell_type": "code",
   "execution_count": 3,
   "id": "d14ce849",
   "metadata": {},
   "outputs": [
    {
     "data": {
      "text/plain": [
       "pandas.core.frame.DataFrame"
      ]
     },
     "execution_count": 3,
     "metadata": {},
     "output_type": "execute_result"
    }
   ],
   "source": [
    "type(df)"
   ]
  },
  {
   "cell_type": "code",
   "execution_count": 4,
   "id": "cf0d33d4",
   "metadata": {},
   "outputs": [
    {
     "data": {
      "text/plain": [
       "Index(['Unnamed: 0', 'TV', 'radio', 'newspaper', 'sales'], dtype='object')"
      ]
     },
     "execution_count": 4,
     "metadata": {},
     "output_type": "execute_result"
    }
   ],
   "source": [
    "df.columns"
   ]
  },
  {
   "cell_type": "code",
   "execution_count": 5,
   "id": "3752ba24",
   "metadata": {},
   "outputs": [
    {
     "name": "stdout",
     "output_type": "stream",
     "text": [
      "<class 'pandas.core.frame.DataFrame'>\n",
      "RangeIndex: 200 entries, 0 to 199\n",
      "Data columns (total 5 columns):\n",
      " #   Column      Non-Null Count  Dtype  \n",
      "---  ------      --------------  -----  \n",
      " 0   Unnamed: 0  200 non-null    int64  \n",
      " 1   TV          200 non-null    float64\n",
      " 2   radio       200 non-null    float64\n",
      " 3   newspaper   200 non-null    float64\n",
      " 4   sales       200 non-null    float64\n",
      "dtypes: float64(4), int64(1)\n",
      "memory usage: 7.9 KB\n"
     ]
    }
   ],
   "source": [
    "df.info()"
   ]
  },
  {
   "cell_type": "markdown",
   "id": "e8f20763",
   "metadata": {},
   "source": [
    "- No null/missing value attributes\n",
    "- No categorical values"
   ]
  },
  {
   "cell_type": "code",
   "execution_count": 6,
   "id": "f56165ca",
   "metadata": {},
   "outputs": [
    {
     "data": {
      "text/html": [
       "<div>\n",
       "<style scoped>\n",
       "    .dataframe tbody tr th:only-of-type {\n",
       "        vertical-align: middle;\n",
       "    }\n",
       "\n",
       "    .dataframe tbody tr th {\n",
       "        vertical-align: top;\n",
       "    }\n",
       "\n",
       "    .dataframe thead th {\n",
       "        text-align: right;\n",
       "    }\n",
       "</style>\n",
       "<table border=\"1\" class=\"dataframe\">\n",
       "  <thead>\n",
       "    <tr style=\"text-align: right;\">\n",
       "      <th></th>\n",
       "      <th>Unnamed: 0</th>\n",
       "      <th>TV</th>\n",
       "      <th>radio</th>\n",
       "      <th>newspaper</th>\n",
       "      <th>sales</th>\n",
       "    </tr>\n",
       "  </thead>\n",
       "  <tbody>\n",
       "    <tr>\n",
       "      <th>0</th>\n",
       "      <td>1</td>\n",
       "      <td>230.1</td>\n",
       "      <td>37.8</td>\n",
       "      <td>69.2</td>\n",
       "      <td>22.1</td>\n",
       "    </tr>\n",
       "    <tr>\n",
       "      <th>1</th>\n",
       "      <td>2</td>\n",
       "      <td>44.5</td>\n",
       "      <td>39.3</td>\n",
       "      <td>45.1</td>\n",
       "      <td>10.4</td>\n",
       "    </tr>\n",
       "    <tr>\n",
       "      <th>2</th>\n",
       "      <td>3</td>\n",
       "      <td>17.2</td>\n",
       "      <td>45.9</td>\n",
       "      <td>69.3</td>\n",
       "      <td>9.3</td>\n",
       "    </tr>\n",
       "    <tr>\n",
       "      <th>3</th>\n",
       "      <td>4</td>\n",
       "      <td>151.5</td>\n",
       "      <td>41.3</td>\n",
       "      <td>58.5</td>\n",
       "      <td>18.5</td>\n",
       "    </tr>\n",
       "    <tr>\n",
       "      <th>4</th>\n",
       "      <td>5</td>\n",
       "      <td>180.8</td>\n",
       "      <td>10.8</td>\n",
       "      <td>58.4</td>\n",
       "      <td>12.9</td>\n",
       "    </tr>\n",
       "  </tbody>\n",
       "</table>\n",
       "</div>"
      ],
      "text/plain": [
       "   Unnamed: 0     TV  radio  newspaper  sales\n",
       "0           1  230.1   37.8       69.2   22.1\n",
       "1           2   44.5   39.3       45.1   10.4\n",
       "2           3   17.2   45.9       69.3    9.3\n",
       "3           4  151.5   41.3       58.5   18.5\n",
       "4           5  180.8   10.8       58.4   12.9"
      ]
     },
     "execution_count": 6,
     "metadata": {},
     "output_type": "execute_result"
    }
   ],
   "source": [
    "df.head()"
   ]
  },
  {
   "cell_type": "code",
   "execution_count": 7,
   "id": "33c6051d",
   "metadata": {},
   "outputs": [
    {
     "data": {
      "text/html": [
       "<div>\n",
       "<style scoped>\n",
       "    .dataframe tbody tr th:only-of-type {\n",
       "        vertical-align: middle;\n",
       "    }\n",
       "\n",
       "    .dataframe tbody tr th {\n",
       "        vertical-align: top;\n",
       "    }\n",
       "\n",
       "    .dataframe thead th {\n",
       "        text-align: right;\n",
       "    }\n",
       "</style>\n",
       "<table border=\"1\" class=\"dataframe\">\n",
       "  <thead>\n",
       "    <tr style=\"text-align: right;\">\n",
       "      <th></th>\n",
       "      <th>Unnamed: 0</th>\n",
       "      <th>TV</th>\n",
       "      <th>radio</th>\n",
       "      <th>newspaper</th>\n",
       "      <th>sales</th>\n",
       "    </tr>\n",
       "  </thead>\n",
       "  <tbody>\n",
       "    <tr>\n",
       "      <th>195</th>\n",
       "      <td>196</td>\n",
       "      <td>38.2</td>\n",
       "      <td>3.7</td>\n",
       "      <td>13.8</td>\n",
       "      <td>7.6</td>\n",
       "    </tr>\n",
       "    <tr>\n",
       "      <th>196</th>\n",
       "      <td>197</td>\n",
       "      <td>94.2</td>\n",
       "      <td>4.9</td>\n",
       "      <td>8.1</td>\n",
       "      <td>9.7</td>\n",
       "    </tr>\n",
       "    <tr>\n",
       "      <th>197</th>\n",
       "      <td>198</td>\n",
       "      <td>177.0</td>\n",
       "      <td>9.3</td>\n",
       "      <td>6.4</td>\n",
       "      <td>12.8</td>\n",
       "    </tr>\n",
       "    <tr>\n",
       "      <th>198</th>\n",
       "      <td>199</td>\n",
       "      <td>283.6</td>\n",
       "      <td>42.0</td>\n",
       "      <td>66.2</td>\n",
       "      <td>25.5</td>\n",
       "    </tr>\n",
       "    <tr>\n",
       "      <th>199</th>\n",
       "      <td>200</td>\n",
       "      <td>232.1</td>\n",
       "      <td>8.6</td>\n",
       "      <td>8.7</td>\n",
       "      <td>13.4</td>\n",
       "    </tr>\n",
       "  </tbody>\n",
       "</table>\n",
       "</div>"
      ],
      "text/plain": [
       "     Unnamed: 0     TV  radio  newspaper  sales\n",
       "195         196   38.2    3.7       13.8    7.6\n",
       "196         197   94.2    4.9        8.1    9.7\n",
       "197         198  177.0    9.3        6.4   12.8\n",
       "198         199  283.6   42.0       66.2   25.5\n",
       "199         200  232.1    8.6        8.7   13.4"
      ]
     },
     "execution_count": 7,
     "metadata": {},
     "output_type": "execute_result"
    }
   ],
   "source": [
    "df.tail()"
   ]
  },
  {
   "cell_type": "code",
   "execution_count": 8,
   "id": "28693827",
   "metadata": {},
   "outputs": [
    {
     "data": {
      "text/html": [
       "<div>\n",
       "<style scoped>\n",
       "    .dataframe tbody tr th:only-of-type {\n",
       "        vertical-align: middle;\n",
       "    }\n",
       "\n",
       "    .dataframe tbody tr th {\n",
       "        vertical-align: top;\n",
       "    }\n",
       "\n",
       "    .dataframe thead th {\n",
       "        text-align: right;\n",
       "    }\n",
       "</style>\n",
       "<table border=\"1\" class=\"dataframe\">\n",
       "  <thead>\n",
       "    <tr style=\"text-align: right;\">\n",
       "      <th></th>\n",
       "      <th>Unnamed: 0</th>\n",
       "      <th>TV</th>\n",
       "      <th>radio</th>\n",
       "      <th>newspaper</th>\n",
       "      <th>sales</th>\n",
       "    </tr>\n",
       "  </thead>\n",
       "  <tbody>\n",
       "    <tr>\n",
       "      <th>56</th>\n",
       "      <td>57</td>\n",
       "      <td>7.3</td>\n",
       "      <td>28.1</td>\n",
       "      <td>41.4</td>\n",
       "      <td>5.5</td>\n",
       "    </tr>\n",
       "    <tr>\n",
       "      <th>189</th>\n",
       "      <td>190</td>\n",
       "      <td>18.7</td>\n",
       "      <td>12.1</td>\n",
       "      <td>23.4</td>\n",
       "      <td>6.7</td>\n",
       "    </tr>\n",
       "    <tr>\n",
       "      <th>39</th>\n",
       "      <td>40</td>\n",
       "      <td>228.0</td>\n",
       "      <td>37.7</td>\n",
       "      <td>32.0</td>\n",
       "      <td>21.5</td>\n",
       "    </tr>\n",
       "    <tr>\n",
       "      <th>74</th>\n",
       "      <td>75</td>\n",
       "      <td>213.4</td>\n",
       "      <td>24.6</td>\n",
       "      <td>13.1</td>\n",
       "      <td>17.0</td>\n",
       "    </tr>\n",
       "  </tbody>\n",
       "</table>\n",
       "</div>"
      ],
      "text/plain": [
       "     Unnamed: 0     TV  radio  newspaper  sales\n",
       "56           57    7.3   28.1       41.4    5.5\n",
       "189         190   18.7   12.1       23.4    6.7\n",
       "39           40  228.0   37.7       32.0   21.5\n",
       "74           75  213.4   24.6       13.1   17.0"
      ]
     },
     "execution_count": 8,
     "metadata": {},
     "output_type": "execute_result"
    }
   ],
   "source": [
    "df.sample(4)"
   ]
  },
  {
   "cell_type": "code",
   "execution_count": 9,
   "id": "754889f1",
   "metadata": {},
   "outputs": [
    {
     "data": {
      "text/plain": [
       "Unnamed: 0      int64\n",
       "TV            float64\n",
       "radio         float64\n",
       "newspaper     float64\n",
       "sales         float64\n",
       "dtype: object"
      ]
     },
     "execution_count": 9,
     "metadata": {},
     "output_type": "execute_result"
    }
   ],
   "source": [
    "df.dtypes"
   ]
  },
  {
   "cell_type": "markdown",
   "id": "2d89618f",
   "metadata": {},
   "source": [
    "- Only float and integer values are available"
   ]
  },
  {
   "cell_type": "code",
   "execution_count": 10,
   "id": "60f0ee81",
   "metadata": {},
   "outputs": [
    {
     "data": {
      "text/html": [
       "<div>\n",
       "<style scoped>\n",
       "    .dataframe tbody tr th:only-of-type {\n",
       "        vertical-align: middle;\n",
       "    }\n",
       "\n",
       "    .dataframe tbody tr th {\n",
       "        vertical-align: top;\n",
       "    }\n",
       "\n",
       "    .dataframe thead th {\n",
       "        text-align: right;\n",
       "    }\n",
       "</style>\n",
       "<table border=\"1\" class=\"dataframe\">\n",
       "  <thead>\n",
       "    <tr style=\"text-align: right;\">\n",
       "      <th></th>\n",
       "      <th>Unnamed: 0</th>\n",
       "      <th>TV</th>\n",
       "      <th>radio</th>\n",
       "      <th>newspaper</th>\n",
       "      <th>sales</th>\n",
       "    </tr>\n",
       "  </thead>\n",
       "  <tbody>\n",
       "    <tr>\n",
       "      <th>0</th>\n",
       "      <td>False</td>\n",
       "      <td>False</td>\n",
       "      <td>False</td>\n",
       "      <td>False</td>\n",
       "      <td>False</td>\n",
       "    </tr>\n",
       "    <tr>\n",
       "      <th>1</th>\n",
       "      <td>False</td>\n",
       "      <td>False</td>\n",
       "      <td>False</td>\n",
       "      <td>False</td>\n",
       "      <td>False</td>\n",
       "    </tr>\n",
       "    <tr>\n",
       "      <th>2</th>\n",
       "      <td>False</td>\n",
       "      <td>False</td>\n",
       "      <td>False</td>\n",
       "      <td>False</td>\n",
       "      <td>False</td>\n",
       "    </tr>\n",
       "    <tr>\n",
       "      <th>3</th>\n",
       "      <td>False</td>\n",
       "      <td>False</td>\n",
       "      <td>False</td>\n",
       "      <td>False</td>\n",
       "      <td>False</td>\n",
       "    </tr>\n",
       "    <tr>\n",
       "      <th>4</th>\n",
       "      <td>False</td>\n",
       "      <td>False</td>\n",
       "      <td>False</td>\n",
       "      <td>False</td>\n",
       "      <td>False</td>\n",
       "    </tr>\n",
       "    <tr>\n",
       "      <th>...</th>\n",
       "      <td>...</td>\n",
       "      <td>...</td>\n",
       "      <td>...</td>\n",
       "      <td>...</td>\n",
       "      <td>...</td>\n",
       "    </tr>\n",
       "    <tr>\n",
       "      <th>195</th>\n",
       "      <td>False</td>\n",
       "      <td>False</td>\n",
       "      <td>False</td>\n",
       "      <td>False</td>\n",
       "      <td>False</td>\n",
       "    </tr>\n",
       "    <tr>\n",
       "      <th>196</th>\n",
       "      <td>False</td>\n",
       "      <td>False</td>\n",
       "      <td>False</td>\n",
       "      <td>False</td>\n",
       "      <td>False</td>\n",
       "    </tr>\n",
       "    <tr>\n",
       "      <th>197</th>\n",
       "      <td>False</td>\n",
       "      <td>False</td>\n",
       "      <td>False</td>\n",
       "      <td>False</td>\n",
       "      <td>False</td>\n",
       "    </tr>\n",
       "    <tr>\n",
       "      <th>198</th>\n",
       "      <td>False</td>\n",
       "      <td>False</td>\n",
       "      <td>False</td>\n",
       "      <td>False</td>\n",
       "      <td>False</td>\n",
       "    </tr>\n",
       "    <tr>\n",
       "      <th>199</th>\n",
       "      <td>False</td>\n",
       "      <td>False</td>\n",
       "      <td>False</td>\n",
       "      <td>False</td>\n",
       "      <td>False</td>\n",
       "    </tr>\n",
       "  </tbody>\n",
       "</table>\n",
       "<p>200 rows × 5 columns</p>\n",
       "</div>"
      ],
      "text/plain": [
       "     Unnamed: 0     TV  radio  newspaper  sales\n",
       "0         False  False  False      False  False\n",
       "1         False  False  False      False  False\n",
       "2         False  False  False      False  False\n",
       "3         False  False  False      False  False\n",
       "4         False  False  False      False  False\n",
       "..          ...    ...    ...        ...    ...\n",
       "195       False  False  False      False  False\n",
       "196       False  False  False      False  False\n",
       "197       False  False  False      False  False\n",
       "198       False  False  False      False  False\n",
       "199       False  False  False      False  False\n",
       "\n",
       "[200 rows x 5 columns]"
      ]
     },
     "execution_count": 10,
     "metadata": {},
     "output_type": "execute_result"
    }
   ],
   "source": [
    "df.isnull()"
   ]
  },
  {
   "cell_type": "code",
   "execution_count": 11,
   "id": "1cec4861",
   "metadata": {},
   "outputs": [
    {
     "data": {
      "text/plain": [
       "Unnamed: 0    0\n",
       "TV            0\n",
       "radio         0\n",
       "newspaper     0\n",
       "sales         0\n",
       "dtype: int64"
      ]
     },
     "execution_count": 11,
     "metadata": {},
     "output_type": "execute_result"
    }
   ],
   "source": [
    "df.isnull().sum()"
   ]
  },
  {
   "cell_type": "code",
   "execution_count": 12,
   "id": "5d72df1e",
   "metadata": {},
   "outputs": [
    {
     "data": {
      "text/plain": [
       "<AxesSubplot:>"
      ]
     },
     "execution_count": 12,
     "metadata": {},
     "output_type": "execute_result"
    },
    {
     "data": {
      "image/png": "[encoded data removed]",
      "text/plain": [
       "<Figure size 432x288 with 2 Axes>"
      ]
     },
     "metadata": {
      "needs_background": "light"
     },
     "output_type": "display_data"
    }
   ],
   "source": [
    "sns.heatmap(df.isnull())"
   ]
  },
  {
   "cell_type": "markdown",
   "id": "29827f47",
   "metadata": {},
   "source": [
    "- No missing values"
   ]
  },
  {
   "cell_type": "code",
   "execution_count": 13,
   "id": "32ac748a",
   "metadata": {},
   "outputs": [
    {
     "data": {
      "text/html": [
       "<div>\n",
       "<style scoped>\n",
       "    .dataframe tbody tr th:only-of-type {\n",
       "        vertical-align: middle;\n",
       "    }\n",
       "\n",
       "    .dataframe tbody tr th {\n",
       "        vertical-align: top;\n",
       "    }\n",
       "\n",
       "    .dataframe thead th {\n",
       "        text-align: right;\n",
       "    }\n",
       "</style>\n",
       "<table border=\"1\" class=\"dataframe\">\n",
       "  <thead>\n",
       "    <tr style=\"text-align: right;\">\n",
       "      <th></th>\n",
       "      <th>Unnamed: 0</th>\n",
       "      <th>TV</th>\n",
       "      <th>radio</th>\n",
       "      <th>newspaper</th>\n",
       "      <th>sales</th>\n",
       "    </tr>\n",
       "  </thead>\n",
       "  <tbody>\n",
       "    <tr>\n",
       "      <th>0</th>\n",
       "      <td>1</td>\n",
       "      <td>230.1</td>\n",
       "      <td>37.8</td>\n",
       "      <td>69.2</td>\n",
       "      <td>22.1</td>\n",
       "    </tr>\n",
       "    <tr>\n",
       "      <th>1</th>\n",
       "      <td>2</td>\n",
       "      <td>44.5</td>\n",
       "      <td>39.3</td>\n",
       "      <td>45.1</td>\n",
       "      <td>10.4</td>\n",
       "    </tr>\n",
       "    <tr>\n",
       "      <th>2</th>\n",
       "      <td>3</td>\n",
       "      <td>17.2</td>\n",
       "      <td>45.9</td>\n",
       "      <td>69.3</td>\n",
       "      <td>9.3</td>\n",
       "    </tr>\n",
       "    <tr>\n",
       "      <th>3</th>\n",
       "      <td>4</td>\n",
       "      <td>151.5</td>\n",
       "      <td>41.3</td>\n",
       "      <td>58.5</td>\n",
       "      <td>18.5</td>\n",
       "    </tr>\n",
       "    <tr>\n",
       "      <th>4</th>\n",
       "      <td>5</td>\n",
       "      <td>180.8</td>\n",
       "      <td>10.8</td>\n",
       "      <td>58.4</td>\n",
       "      <td>12.9</td>\n",
       "    </tr>\n",
       "    <tr>\n",
       "      <th>...</th>\n",
       "      <td>...</td>\n",
       "      <td>...</td>\n",
       "      <td>...</td>\n",
       "      <td>...</td>\n",
       "      <td>...</td>\n",
       "    </tr>\n",
       "    <tr>\n",
       "      <th>195</th>\n",
       "      <td>196</td>\n",
       "      <td>38.2</td>\n",
       "      <td>3.7</td>\n",
       "      <td>13.8</td>\n",
       "      <td>7.6</td>\n",
       "    </tr>\n",
       "    <tr>\n",
       "      <th>196</th>\n",
       "      <td>197</td>\n",
       "      <td>94.2</td>\n",
       "      <td>4.9</td>\n",
       "      <td>8.1</td>\n",
       "      <td>9.7</td>\n",
       "    </tr>\n",
       "    <tr>\n",
       "      <th>197</th>\n",
       "      <td>198</td>\n",
       "      <td>177.0</td>\n",
       "      <td>9.3</td>\n",
       "      <td>6.4</td>\n",
       "      <td>12.8</td>\n",
       "    </tr>\n",
       "    <tr>\n",
       "      <th>198</th>\n",
       "      <td>199</td>\n",
       "      <td>283.6</td>\n",
       "      <td>42.0</td>\n",
       "      <td>66.2</td>\n",
       "      <td>25.5</td>\n",
       "    </tr>\n",
       "    <tr>\n",
       "      <th>199</th>\n",
       "      <td>200</td>\n",
       "      <td>232.1</td>\n",
       "      <td>8.6</td>\n",
       "      <td>8.7</td>\n",
       "      <td>13.4</td>\n",
       "    </tr>\n",
       "  </tbody>\n",
       "</table>\n",
       "<p>200 rows × 5 columns</p>\n",
       "</div>"
      ],
      "text/plain": [
       "     Unnamed: 0     TV  radio  newspaper  sales\n",
       "0             1  230.1   37.8       69.2   22.1\n",
       "1             2   44.5   39.3       45.1   10.4\n",
       "2             3   17.2   45.9       69.3    9.3\n",
       "3             4  151.5   41.3       58.5   18.5\n",
       "4             5  180.8   10.8       58.4   12.9\n",
       "..          ...    ...    ...        ...    ...\n",
       "195         196   38.2    3.7       13.8    7.6\n",
       "196         197   94.2    4.9        8.1    9.7\n",
       "197         198  177.0    9.3        6.4   12.8\n",
       "198         199  283.6   42.0       66.2   25.5\n",
       "199         200  232.1    8.6        8.7   13.4\n",
       "\n",
       "[200 rows x 5 columns]"
      ]
     },
     "execution_count": 13,
     "metadata": {},
     "output_type": "execute_result"
    }
   ],
   "source": [
    "df"
   ]
  },
  {
   "cell_type": "markdown",
   "id": "1af81748",
   "metadata": {},
   "source": [
    "Unnamed is just a serial/sequence number of sales through all chanels.\n",
    "So we can drop it"
   ]
  },
  {
   "cell_type": "code",
   "execution_count": 14,
   "id": "16d3242a",
   "metadata": {},
   "outputs": [
    {
     "data": {
      "text/html": [
       "<div>\n",
       "<style scoped>\n",
       "    .dataframe tbody tr th:only-of-type {\n",
       "        vertical-align: middle;\n",
       "    }\n",
       "\n",
       "    .dataframe tbody tr th {\n",
       "        vertical-align: top;\n",
       "    }\n",
       "\n",
       "    .dataframe thead th {\n",
       "        text-align: right;\n",
       "    }\n",
       "</style>\n",
       "<table border=\"1\" class=\"dataframe\">\n",
       "  <thead>\n",
       "    <tr style=\"text-align: right;\">\n",
       "      <th></th>\n",
       "      <th>TV</th>\n",
       "      <th>radio</th>\n",
       "      <th>newspaper</th>\n",
       "      <th>sales</th>\n",
       "    </tr>\n",
       "  </thead>\n",
       "  <tbody>\n",
       "    <tr>\n",
       "      <th>0</th>\n",
       "      <td>230.1</td>\n",
       "      <td>37.8</td>\n",
       "      <td>69.2</td>\n",
       "      <td>22.1</td>\n",
       "    </tr>\n",
       "    <tr>\n",
       "      <th>1</th>\n",
       "      <td>44.5</td>\n",
       "      <td>39.3</td>\n",
       "      <td>45.1</td>\n",
       "      <td>10.4</td>\n",
       "    </tr>\n",
       "    <tr>\n",
       "      <th>2</th>\n",
       "      <td>17.2</td>\n",
       "      <td>45.9</td>\n",
       "      <td>69.3</td>\n",
       "      <td>9.3</td>\n",
       "    </tr>\n",
       "    <tr>\n",
       "      <th>3</th>\n",
       "      <td>151.5</td>\n",
       "      <td>41.3</td>\n",
       "      <td>58.5</td>\n",
       "      <td>18.5</td>\n",
       "    </tr>\n",
       "    <tr>\n",
       "      <th>4</th>\n",
       "      <td>180.8</td>\n",
       "      <td>10.8</td>\n",
       "      <td>58.4</td>\n",
       "      <td>12.9</td>\n",
       "    </tr>\n",
       "    <tr>\n",
       "      <th>...</th>\n",
       "      <td>...</td>\n",
       "      <td>...</td>\n",
       "      <td>...</td>\n",
       "      <td>...</td>\n",
       "    </tr>\n",
       "    <tr>\n",
       "      <th>195</th>\n",
       "      <td>38.2</td>\n",
       "      <td>3.7</td>\n",
       "      <td>13.8</td>\n",
       "      <td>7.6</td>\n",
       "    </tr>\n",
       "    <tr>\n",
       "      <th>196</th>\n",
       "      <td>94.2</td>\n",
       "      <td>4.9</td>\n",
       "      <td>8.1</td>\n",
       "      <td>9.7</td>\n",
       "    </tr>\n",
       "    <tr>\n",
       "      <th>197</th>\n",
       "      <td>177.0</td>\n",
       "      <td>9.3</td>\n",
       "      <td>6.4</td>\n",
       "      <td>12.8</td>\n",
       "    </tr>\n",
       "    <tr>\n",
       "      <th>198</th>\n",
       "      <td>283.6</td>\n",
       "      <td>42.0</td>\n",
       "      <td>66.2</td>\n",
       "      <td>25.5</td>\n",
       "    </tr>\n",
       "    <tr>\n",
       "      <th>199</th>\n",
       "      <td>232.1</td>\n",
       "      <td>8.6</td>\n",
       "      <td>8.7</td>\n",
       "      <td>13.4</td>\n",
       "    </tr>\n",
       "  </tbody>\n",
       "</table>\n",
       "<p>200 rows × 4 columns</p>\n",
       "</div>"
      ],
      "text/plain": [
       "        TV  radio  newspaper  sales\n",
       "0    230.1   37.8       69.2   22.1\n",
       "1     44.5   39.3       45.1   10.4\n",
       "2     17.2   45.9       69.3    9.3\n",
       "3    151.5   41.3       58.5   18.5\n",
       "4    180.8   10.8       58.4   12.9\n",
       "..     ...    ...        ...    ...\n",
       "195   38.2    3.7       13.8    7.6\n",
       "196   94.2    4.9        8.1    9.7\n",
       "197  177.0    9.3        6.4   12.8\n",
       "198  283.6   42.0       66.2   25.5\n",
       "199  232.1    8.6        8.7   13.4\n",
       "\n",
       "[200 rows x 4 columns]"
      ]
     },
     "execution_count": 14,
     "metadata": {},
     "output_type": "execute_result"
    }
   ],
   "source": [
    "df=df.drop(\"Unnamed: 0\",axis=1)\n",
    "df"
   ]
  },
  {
   "cell_type": "code",
   "execution_count": 15,
   "id": "e79ef02e",
   "metadata": {},
   "outputs": [
    {
     "data": {
      "text/plain": [
       "<AxesSubplot:>"
      ]
     },
     "execution_count": 15,
     "metadata": {},
     "output_type": "execute_result"
    },
    {
     "data": {
      "image/png": "[encoded data removed]",
      "text/plain": [
       "<Figure size 432x288 with 2 Axes>"
      ]
     },
     "metadata": {
      "needs_background": "light"
     },
     "output_type": "display_data"
    }
   ],
   "source": [
    "sns.heatmap(df.corr(),annot=True)"
   ]
  },
  {
   "cell_type": "markdown",
   "id": "42272c1e",
   "metadata": {},
   "source": [
    "- Sales through radio chanel and TV chanel are very good positively correlated(55%)\n",
    "- Sales and sales through newspaper chanel are positively correlated(23%)\n",
    "- Sales and sales through TV chanel are highly correlated among all(78%)\n",
    "- Sales and sales through newspaper chanel are poorly correlated among all(23%)\n",
    "- Sales through TV chanel and radio/newspaper chanel are very negatively correlated(55/,57%)"
   ]
  },
  {
   "cell_type": "code",
   "execution_count": 16,
   "id": "82b80410",
   "metadata": {},
   "outputs": [
    {
     "data": {
      "text/html": [
       "<div>\n",
       "<style scoped>\n",
       "    .dataframe tbody tr th:only-of-type {\n",
       "        vertical-align: middle;\n",
       "    }\n",
       "\n",
       "    .dataframe tbody tr th {\n",
       "        vertical-align: top;\n",
       "    }\n",
       "\n",
       "    .dataframe thead th {\n",
       "        text-align: right;\n",
       "    }\n",
       "</style>\n",
       "<table border=\"1\" class=\"dataframe\">\n",
       "  <thead>\n",
       "    <tr style=\"text-align: right;\">\n",
       "      <th></th>\n",
       "      <th>TV</th>\n",
       "      <th>radio</th>\n",
       "      <th>newspaper</th>\n",
       "      <th>sales</th>\n",
       "    </tr>\n",
       "  </thead>\n",
       "  <tbody>\n",
       "    <tr>\n",
       "      <th>mean</th>\n",
       "      <td>147.04</td>\n",
       "      <td>23.26</td>\n",
       "      <td>30.55</td>\n",
       "      <td>14.02</td>\n",
       "    </tr>\n",
       "    <tr>\n",
       "      <th>std</th>\n",
       "      <td>85.85</td>\n",
       "      <td>14.85</td>\n",
       "      <td>21.78</td>\n",
       "      <td>5.22</td>\n",
       "    </tr>\n",
       "    <tr>\n",
       "      <th>min</th>\n",
       "      <td>0.70</td>\n",
       "      <td>0.00</td>\n",
       "      <td>0.30</td>\n",
       "      <td>1.60</td>\n",
       "    </tr>\n",
       "    <tr>\n",
       "      <th>25%</th>\n",
       "      <td>74.38</td>\n",
       "      <td>9.98</td>\n",
       "      <td>12.75</td>\n",
       "      <td>10.38</td>\n",
       "    </tr>\n",
       "    <tr>\n",
       "      <th>50%</th>\n",
       "      <td>149.75</td>\n",
       "      <td>22.90</td>\n",
       "      <td>25.75</td>\n",
       "      <td>12.90</td>\n",
       "    </tr>\n",
       "    <tr>\n",
       "      <th>75%</th>\n",
       "      <td>218.82</td>\n",
       "      <td>36.52</td>\n",
       "      <td>45.10</td>\n",
       "      <td>17.40</td>\n",
       "    </tr>\n",
       "    <tr>\n",
       "      <th>max</th>\n",
       "      <td>296.40</td>\n",
       "      <td>49.60</td>\n",
       "      <td>114.00</td>\n",
       "      <td>27.00</td>\n",
       "    </tr>\n",
       "  </tbody>\n",
       "</table>\n",
       "</div>"
      ],
      "text/plain": [
       "          TV  radio  newspaper  sales\n",
       "mean  147.04  23.26      30.55  14.02\n",
       "std    85.85  14.85      21.78   5.22\n",
       "min     0.70   0.00       0.30   1.60\n",
       "25%    74.38   9.98      12.75  10.38\n",
       "50%   149.75  22.90      25.75  12.90\n",
       "75%   218.82  36.52      45.10  17.40\n",
       "max   296.40  49.60     114.00  27.00"
      ]
     },
     "execution_count": 16,
     "metadata": {},
     "output_type": "execute_result"
    }
   ],
   "source": [
    "round(df.describe()[1:],2)\n"
   ]
  },
  {
   "cell_type": "markdown",
   "id": "8619af56",
   "metadata": {},
   "source": [
    "- TV:\n",
    "    - mean is less than median>>>very low left skewness.\n",
    "    - mean and std have large difference>>>Data points are highgly spreaded.\n",
    "    - Q3 and max values have very less difference>>>There will be no outliers.\n",
    "    - Mean:147.04\n",
    "    - std:85.85\n",
    "    - min:0.70\n",
    "    - max:296.40\n",
    "- radio:\n",
    "    - mean is greater than median>>>very low right skewness.\n",
    "    - mean and std have lage difference>>>Data points are highgly spreaded.\n",
    "    - Q3 and max values have very less difference>>>There will be no outliers.\n",
    "    - Mean:23.26\n",
    "    - std:14.85\n",
    "    - min:0.00\n",
    "    - max:49.60\n",
    "- newspaper:\n",
    "    - mean is greater than median>>>very low right skewness.\n",
    "    - mean and std have lage difference>>>Data points are highgly spreaded.\n",
    "    - Q3 and max values have large difference>>>There will be huge outliers.\n",
    "    - Mean:30.55\n",
    "    - std:21.78\n",
    "    - min:0.30\n",
    "    - max:114.00"
   ]
  },
  {
   "cell_type": "code",
   "execution_count": 17,
   "id": "d1f46552",
   "metadata": {},
   "outputs": [
    {
     "data": {
      "text/plain": [
       "{'whiskers': [<matplotlib.lines.Line2D at 0x5197c7f340>,\n",
       "  <matplotlib.lines.Line2D at 0x5197c7f610>],\n",
       " 'caps': [<matplotlib.lines.Line2D at 0x5197c7f9a0>,\n",
       "  <matplotlib.lines.Line2D at 0x5197c7fd30>],\n",
       " 'boxes': [<matplotlib.lines.Line2D at 0x5197c6ceb0>],\n",
       " 'medians': [<matplotlib.lines.Line2D at 0x5197c8d100>],\n",
       " 'fliers': [<matplotlib.lines.Line2D at 0x5197c8d490>],\n",
       " 'means': []}"
      ]
     },
     "execution_count": 17,
     "metadata": {},
     "output_type": "execute_result"
    },
    {
     "data": {
      "image/png": "[encoded data removed]",
      "text/plain": [
       "<Figure size 432x288 with 1 Axes>"
      ]
     },
     "metadata": {
      "needs_background": "light"
     },
     "output_type": "display_data"
    }
   ],
   "source": [
    "plt.boxplot(df['TV'])"
   ]
  },
  {
   "cell_type": "markdown",
   "id": "020ee9b1",
   "metadata": {},
   "source": [
    "No outliers in the data"
   ]
  },
  {
   "cell_type": "code",
   "execution_count": 18,
   "id": "99df9cb7",
   "metadata": {},
   "outputs": [
    {
     "name": "stderr",
     "output_type": "stream",
     "text": [
      "C:\\Users\\Mahavir Computers\\anaconda3\\lib\\site-packages\\seaborn\\distributions.py:2619: FutureWarning: `distplot` is a deprecated function and will be removed in a future version. Please adapt your code to use either `displot` (a figure-level function with similar flexibility) or `histplot` (an axes-level function for histograms).\n",
      "  warnings.warn(msg, FutureWarning)\n"
     ]
    },
    {
     "data": {
      "text/plain": [
       "<AxesSubplot:xlabel='TV', ylabel='Density'>"
      ]
     },
     "execution_count": 18,
     "metadata": {},
     "output_type": "execute_result"
    },
    {
     "data": {
      "image/png": "[encoded data removed]",
      "text/plain": [
       "<Figure size 432x288 with 1 Axes>"
      ]
     },
     "metadata": {
      "needs_background": "light"
     },
     "output_type": "display_data"
    }
   ],
   "source": [
    "sns.distplot(df['TV'])"
   ]
  },
  {
   "cell_type": "markdown",
   "id": "c1600ff4",
   "metadata": {},
   "source": [
    "- Data are well spreaded\n",
    "- slight left skewness"
   ]
  },
  {
   "cell_type": "code",
   "execution_count": 19,
   "id": "56b4d0ed",
   "metadata": {},
   "outputs": [
    {
     "data": {
      "text/plain": [
       "array([  0.7,   4.1,   5.4,   7.3,   7.8,   8.4,   8.6,   8.7,  11.7,\n",
       "        13.1,  13.2,  16.9,  17.2,  17.9,  18.7,  18.8,  19.4,  19.6,\n",
       "        23.8,  25. ,  25.1,  25.6,  26.8,  27.5,  28.6,  31.5,  36.9,\n",
       "        38. ,  38.2,  39.5,  43. ,  43.1,  44.5,  44.7,  48.3,  50. ,\n",
       "        53.5,  56.2,  57.5,  59.6,  62.3,  66.1,  66.9,  67.8,  68.4,\n",
       "        69. ,  69.2,  70.6,  73.4,  74.7,  75.1,  75.3,  75.5,  76.3,\n",
       "        76.4,  78.2,  80.2,  85.7,  87.2,  88.3,  89.7,  90.4,  93.9,\n",
       "        94.2,  95.7,  96.2,  97.2,  97.5, 100.4, 102.7, 104.6, 107.4,\n",
       "       109.8, 110.7, 112.9, 116. , 117.2, 120.2, 120.5, 121. , 123.1,\n",
       "       125.7, 129.4, 131.1, 131.7, 134.3, 135.2, 136.2, 137.9, 139.2,\n",
       "       139.3, 139.5, 140.3, 141.3, 142.9, 147.3, 149.7, 149.8, 151.5,\n",
       "       156.6, 163.3, 163.5, 164.5, 165.6, 166.8, 168.4, 170.2, 171.3,\n",
       "       172.5, 175.1, 175.7, 177. , 180.8, 182.6, 184.9, 187.8, 187.9,\n",
       "       188.4, 191.1, 193.2, 193.7, 195.4, 197.6, 198.9, 199.1, 199.8,\n",
       "       202.5, 204.1, 205. , 206.8, 206.9, 209.6, 210.7, 210.8, 213.4,\n",
       "       213.5, 214.7, 215.4, 216.4, 216.8, 217.7, 218.4, 218.5, 219.8,\n",
       "       220.3, 220.5, 222.4, 224. , 225.8, 227.2, 228. , 228.3, 229.5,\n",
       "       230.1, 232.1, 234.5, 237.4, 238.2, 239.3, 239.8, 239.9, 240.1,\n",
       "       241.7, 243.2, 248.4, 248.8, 250.9, 253.8, 255.4, 261.3, 262.7,\n",
       "       262.9, 265.2, 265.6, 266.9, 273.7, 276.7, 276.9, 280.2, 280.7,\n",
       "       281.4, 283.6, 284.3, 286. , 287.6, 289.7, 290.7, 292.9, 293.6,\n",
       "       296.4])"
      ]
     },
     "execution_count": 19,
     "metadata": {},
     "output_type": "execute_result"
    }
   ],
   "source": [
    "df['TV'].sort_values().unique()"
   ]
  },
  {
   "cell_type": "markdown",
   "id": "d680df52",
   "metadata": {},
   "source": [
    "min values=0.70\n",
    "max values=296.40"
   ]
  },
  {
   "cell_type": "code",
   "execution_count": 20,
   "id": "e92f96b9",
   "metadata": {},
   "outputs": [
    {
     "name": "stderr",
     "output_type": "stream",
     "text": [
      "C:\\Users\\Mahavir Computers\\anaconda3\\lib\\site-packages\\seaborn\\_decorators.py:36: FutureWarning: Pass the following variable as a keyword arg: x. From version 0.12, the only valid positional argument will be `data`, and passing other arguments without an explicit keyword will result in an error or misinterpretation.\n",
      "  warnings.warn(\n"
     ]
    },
    {
     "data": {
      "text/plain": [
       "<AxesSubplot:xlabel='radio'>"
      ]
     },
     "execution_count": 20,
     "metadata": {},
     "output_type": "execute_result"
    },
    {
     "data": {
      "image/png": "[encoded data removed]",
      "text/plain": [
       "<Figure size 432x288 with 1 Axes>"
      ]
     },
     "metadata": {
      "needs_background": "light"
     },
     "output_type": "display_data"
    }
   ],
   "source": [
    "sns.boxplot(df['radio'])"
   ]
  },
  {
   "cell_type": "markdown",
   "id": "1979c89c",
   "metadata": {},
   "source": [
    "No outliers in the data"
   ]
  },
  {
   "cell_type": "code",
   "execution_count": 21,
   "id": "b187e070",
   "metadata": {},
   "outputs": [
    {
     "name": "stderr",
     "output_type": "stream",
     "text": [
      "C:\\Users\\Mahavir Computers\\anaconda3\\lib\\site-packages\\seaborn\\distributions.py:2619: FutureWarning: `distplot` is a deprecated function and will be removed in a future version. Please adapt your code to use either `displot` (a figure-level function with similar flexibility) or `histplot` (an axes-level function for histograms).\n",
      "  warnings.warn(msg, FutureWarning)\n"
     ]
    },
    {
     "data": {
      "text/plain": [
       "<AxesSubplot:xlabel='radio', ylabel='Density'>"
      ]
     },
     "execution_count": 21,
     "metadata": {},
     "output_type": "execute_result"
    },
    {
     "data": {
      "image/png": "[encoded data removed]",
      "text/plain": [
       "<Figure size 432x288 with 1 Axes>"
      ]
     },
     "metadata": {
      "needs_background": "light"
     },
     "output_type": "display_data"
    }
   ],
   "source": [
    "sns.distplot(df['radio'])"
   ]
  },
  {
   "cell_type": "markdown",
   "id": "46e87a7a",
   "metadata": {},
   "source": [
    "slight right skewness"
   ]
  },
  {
   "cell_type": "code",
   "execution_count": 22,
   "id": "2f885c5e",
   "metadata": {},
   "outputs": [
    {
     "data": {
      "text/plain": [
       "{'whiskers': [<matplotlib.lines.Line2D at 0x5197e91820>,\n",
       "  <matplotlib.lines.Line2D at 0x5197e91bb0>],\n",
       " 'caps': [<matplotlib.lines.Line2D at 0x5197e91f40>,\n",
       "  <matplotlib.lines.Line2D at 0x5197e9b310>],\n",
       " 'boxes': [<matplotlib.lines.Line2D at 0x5197e91490>],\n",
       " 'medians': [<matplotlib.lines.Line2D at 0x5197e9b6a0>],\n",
       " 'fliers': [<matplotlib.lines.Line2D at 0x5197e9ba30>],\n",
       " 'means': []}"
      ]
     },
     "execution_count": 22,
     "metadata": {},
     "output_type": "execute_result"
    },
    {
     "data": {
      "image/png": "[encoded data removed]",
      "text/plain": [
       "<Figure size 432x288 with 1 Axes>"
      ]
     },
     "metadata": {
      "needs_background": "light"
     },
     "output_type": "display_data"
    }
   ],
   "source": [
    "plt.boxplot(df['newspaper'])"
   ]
  },
  {
   "cell_type": "markdown",
   "id": "d3c646f9",
   "metadata": {},
   "source": [
    "2 outliers present"
   ]
  },
  {
   "cell_type": "code",
   "execution_count": 23,
   "id": "750ffac3",
   "metadata": {},
   "outputs": [
    {
     "data": {
      "text/plain": [
       "<seaborn.axisgrid.FacetGrid at 0x5197dd3040>"
      ]
     },
     "execution_count": 23,
     "metadata": {},
     "output_type": "execute_result"
    },
    {
     "data": {
      "image/png": "[encoded data removed]",
      "text/plain": [
       "<Figure size 360x360 with 1 Axes>"
      ]
     },
     "metadata": {
      "needs_background": "light"
     },
     "output_type": "display_data"
    }
   ],
   "source": [
    "sns.displot(df['newspaper'])"
   ]
  },
  {
   "cell_type": "code",
   "execution_count": 24,
   "id": "bae25398",
   "metadata": {},
   "outputs": [
    {
     "data": {
      "text/plain": [
       "array([  0.3,   0.9,   1. ,   1.7,   1.8,   2.1,   2.2,   2.4,   3.2,\n",
       "         3.6,   3.7,   4. ,   5. ,   5.3,   5.4,   5.5,   5.7,   5.8,\n",
       "         5.9,   6. ,   6.4,   7.2,   7.4,   8.1,   8.3,   8.4,   8.5,\n",
       "         8.7,   9. ,   9.2,   9.3,   9.4,   9.5,  10.2,  10.7,  10.9,\n",
       "        11. ,  11.6,  11.9,  12.4,  12.6,  12.8,  12.9,  13.1,  13.8,\n",
       "        14.2,  14.8,  15.6,  15.9,  16. ,  16.6,  17. ,  17.6,  17.9,\n",
       "        18.2,  18.3,  18.4,  18.5,  19.1,  19.3,  19.4,  19.5,  19.6,\n",
       "        20.3,  20.5,  20.6,  20.7,  21.2,  21.4,  21.6,  22. ,  22.3,\n",
       "        22.9,  23.1,  23.2,  23.4,  23.5,  23.7,  24.2,  24.3,  25.6,\n",
       "        25.9,  26.2,  26.4,  26.6,  27.2,  27.3,  27.4,  28.9,  29.7,\n",
       "        30. ,  30.7,  31.3,  31.5,  31.6,  31.7,  32. ,  32.5,  33. ,\n",
       "        33.8,  34.4,  34.5,  34.6,  35.1,  35.2,  35.6,  35.7,  36.8,\n",
       "        36.9,  37. ,  37.7,  37.9,  38.6,  38.7,  38.9,  39.6,  40.8,\n",
       "        41.4,  41.8,  43. ,  43.1,  43.2,  43.3,  44.3,  45.1,  45.2,\n",
       "        45.7,  45.9,  46. ,  46.2,  47.4,  48.7,  49.3,  49.6,  49.8,\n",
       "        49.9,  50.4,  50.5,  50.6,  51.2,  51.4,  52.7,  52.9,  53.4,\n",
       "        54.7,  55.8,  56.5,  57.6,  58.4,  58.5,  58.7,  59. ,  59.7,\n",
       "        60. ,  63.2,  65.6,  65.7,  65.9,  66.2,  69.2,  69.3,  71.8,\n",
       "        72.3,  73.4,  74.2,  75. ,  75.6,  79.2,  84.8,  89.4, 100.9,\n",
       "       114. ])"
      ]
     },
     "execution_count": 24,
     "metadata": {},
     "output_type": "execute_result"
    }
   ],
   "source": [
    "df['newspaper'].sort_values().unique()"
   ]
  },
  {
   "cell_type": "code",
   "execution_count": 25,
   "id": "f1219711",
   "metadata": {},
   "outputs": [
    {
     "data": {
      "text/plain": [
       "<seaborn.axisgrid.PairGrid at 0x5197eaea60>"
      ]
     },
     "execution_count": 25,
     "metadata": {},
     "output_type": "execute_result"
    },
    {
     "data": {
      "image/png": "[encoded data removed]",
      "text/plain": [
       "<Figure size 720x720 with 20 Axes>"
      ]
     },
     "metadata": {
      "needs_background": "light"
     },
     "output_type": "display_data"
    }
   ],
   "source": [
    "sns.pairplot(df)"
   ]
  },
  {
   "cell_type": "markdown",
   "id": "05aaeb90",
   "metadata": {},
   "source": [
    "- TV chanel and radio/newspaper chanel are negatively correlated.\n",
    "- TV chanel are positively correlated with sales.\n",
    "- radio chanel is positively correlated with newspaper chanel and vice versa.\n",
    "- radio chanel is positively correlated with Sales.\n",
    "- Sales and TV chanel are highly correlated among all of them."
   ]
  },
  {
   "cell_type": "code",
   "execution_count": 26,
   "id": "0bf568d2",
   "metadata": {},
   "outputs": [
    {
     "data": {
      "text/plain": [
       "Index(['TV', 'radio', 'newspaper', 'sales'], dtype='object')"
      ]
     },
     "execution_count": 26,
     "metadata": {},
     "output_type": "execute_result"
    }
   ],
   "source": [
    "df.columns"
   ]
  },
  {
   "cell_type": "code",
   "execution_count": 27,
   "id": "3ce1d103",
   "metadata": {},
   "outputs": [
    {
     "name": "stderr",
     "output_type": "stream",
     "text": [
      "C:\\Users\\Mahavir Computers\\anaconda3\\lib\\site-packages\\seaborn\\_decorators.py:36: FutureWarning: Pass the following variables as keyword args: x, y. From version 0.12, the only valid positional argument will be `data`, and passing other arguments without an explicit keyword will result in an error or misinterpretation.\n",
      "  warnings.warn(\n"
     ]
    },
    {
     "data": {
      "text/plain": [
       "<AxesSubplot:xlabel='TV', ylabel='radio'>"
      ]
     },
     "execution_count": 27,
     "metadata": {},
     "output_type": "execute_result"
    },
    {
     "data": {
      "image/png": "[encoded data removed]",
      "text/plain": [
       "<Figure size 432x288 with 1 Axes>"
      ]
     },
     "metadata": {
      "needs_background": "light"
     },
     "output_type": "display_data"
    }
   ],
   "source": [
    "sns.scatterplot(df['TV'],df['radio'],data=df)"
   ]
  },
  {
   "cell_type": "markdown",
   "id": "fed78ba2",
   "metadata": {},
   "source": [
    "Datapoints are symmetrical spreaded. Negative correlation"
   ]
  },
  {
   "cell_type": "code",
   "execution_count": 28,
   "id": "19f5db22",
   "metadata": {},
   "outputs": [
    {
     "name": "stderr",
     "output_type": "stream",
     "text": [
      "C:\\Users\\Mahavir Computers\\anaconda3\\lib\\site-packages\\seaborn\\_decorators.py:36: FutureWarning: Pass the following variables as keyword args: x, y. From version 0.12, the only valid positional argument will be `data`, and passing other arguments without an explicit keyword will result in an error or misinterpretation.\n",
      "  warnings.warn(\n"
     ]
    },
    {
     "data": {
      "text/plain": [
       "<AxesSubplot:xlabel='TV', ylabel='newspaper'>"
      ]
     },
     "execution_count": 28,
     "metadata": {},
     "output_type": "execute_result"
    },
    {
     "data": {
      "image/png": "[encoded data removed]",
      "text/plain": [
       "<Figure size 432x288 with 1 Axes>"
      ]
     },
     "metadata": {
      "needs_background": "light"
     },
     "output_type": "display_data"
    }
   ],
   "source": [
    "sns.scatterplot(df['TV'],df['newspaper'],data=df)"
   ]
  },
  {
   "cell_type": "markdown",
   "id": "e8a045f0",
   "metadata": {},
   "source": [
    "Datapoints are well spreaded. Negative correlation"
   ]
  },
  {
   "cell_type": "code",
   "execution_count": 29,
   "id": "e299d187",
   "metadata": {},
   "outputs": [
    {
     "name": "stderr",
     "output_type": "stream",
     "text": [
      "C:\\Users\\Mahavir Computers\\anaconda3\\lib\\site-packages\\seaborn\\_decorators.py:36: FutureWarning: Pass the following variables as keyword args: x, y. From version 0.12, the only valid positional argument will be `data`, and passing other arguments without an explicit keyword will result in an error or misinterpretation.\n",
      "  warnings.warn(\n"
     ]
    },
    {
     "data": {
      "text/plain": [
       "<AxesSubplot:xlabel='TV', ylabel='sales'>"
      ]
     },
     "execution_count": 29,
     "metadata": {},
     "output_type": "execute_result"
    },
    {
     "data": {
      "image/png": "[encoded data removed]",
      "text/plain": [
       "<Figure size 432x288 with 1 Axes>"
      ]
     },
     "metadata": {
      "needs_background": "light"
     },
     "output_type": "display_data"
    }
   ],
   "source": [
    "sns.scatterplot(df['TV'],df['sales'],data=df)"
   ]
  },
  {
   "cell_type": "markdown",
   "id": "6aa620ba",
   "metadata": {},
   "source": [
    "Datapoints are well spreaded and have very good correlation."
   ]
  },
  {
   "cell_type": "code",
   "execution_count": 30,
   "id": "f958e2e3",
   "metadata": {},
   "outputs": [
    {
     "name": "stderr",
     "output_type": "stream",
     "text": [
      "C:\\Users\\Mahavir Computers\\anaconda3\\lib\\site-packages\\seaborn\\_decorators.py:36: FutureWarning: Pass the following variables as keyword args: x, y. From version 0.12, the only valid positional argument will be `data`, and passing other arguments without an explicit keyword will result in an error or misinterpretation.\n",
      "  warnings.warn(\n"
     ]
    },
    {
     "data": {
      "text/plain": [
       "<AxesSubplot:xlabel='radio', ylabel='newspaper'>"
      ]
     },
     "execution_count": 30,
     "metadata": {},
     "output_type": "execute_result"
    },
    {
     "data": {
      "image/png": "[encoded data removed]",
      "text/plain": [
       "<Figure size 432x288 with 1 Axes>"
      ]
     },
     "metadata": {
      "needs_background": "light"
     },
     "output_type": "display_data"
    }
   ],
   "source": [
    "sns.scatterplot(df['radio'],df['newspaper'],data=df)"
   ]
  },
  {
   "cell_type": "markdown",
   "id": "16a7cc43",
   "metadata": {},
   "source": [
    "It has positive correlation."
   ]
  },
  {
   "cell_type": "code",
   "execution_count": 31,
   "id": "0c3ea4bf",
   "metadata": {},
   "outputs": [
    {
     "name": "stderr",
     "output_type": "stream",
     "text": [
      "C:\\Users\\Mahavir Computers\\anaconda3\\lib\\site-packages\\seaborn\\_decorators.py:36: FutureWarning: Pass the following variables as keyword args: x, y. From version 0.12, the only valid positional argument will be `data`, and passing other arguments without an explicit keyword will result in an error or misinterpretation.\n",
      "  warnings.warn(\n"
     ]
    },
    {
     "data": {
      "text/plain": [
       "<AxesSubplot:xlabel='radio', ylabel='sales'>"
      ]
     },
     "execution_count": 31,
     "metadata": {},
     "output_type": "execute_result"
    },
    {
     "data": {
      "image/png": "[encoded data removed]",
      "text/plain": [
       "<Figure size 432x288 with 1 Axes>"
      ]
     },
     "metadata": {
      "needs_background": "light"
     },
     "output_type": "display_data"
    }
   ],
   "source": [
    "sns.scatterplot(df['radio'],df['sales'],data=df)"
   ]
  },
  {
   "cell_type": "markdown",
   "id": "b66240e1",
   "metadata": {},
   "source": [
    "Datapoints are well spreaded and have positive correlation."
   ]
  },
  {
   "cell_type": "code",
   "execution_count": 32,
   "id": "55167ced",
   "metadata": {},
   "outputs": [
    {
     "name": "stderr",
     "output_type": "stream",
     "text": [
      "C:\\Users\\Mahavir Computers\\anaconda3\\lib\\site-packages\\seaborn\\_decorators.py:36: FutureWarning: Pass the following variables as keyword args: x, y. From version 0.12, the only valid positional argument will be `data`, and passing other arguments without an explicit keyword will result in an error or misinterpretation.\n",
      "  warnings.warn(\n"
     ]
    },
    {
     "data": {
      "text/plain": [
       "<AxesSubplot:xlabel='newspaper', ylabel='sales'>"
      ]
     },
     "execution_count": 32,
     "metadata": {},
     "output_type": "execute_result"
    },
    {
     "data": {
      "image/png": "[encoded data removed]",
      "text/plain": [
       "<Figure size 432x288 with 1 Axes>"
      ]
     },
     "metadata": {
      "needs_background": "light"
     },
     "output_type": "display_data"
    }
   ],
   "source": [
    "sns.scatterplot(df['newspaper'],df['sales'],data=df)"
   ]
  },
  {
   "cell_type": "markdown",
   "id": "1d4eeed8",
   "metadata": {},
   "source": [
    "It has positive correlation"
   ]
  },
  {
   "cell_type": "code",
   "execution_count": 33,
   "id": "514caa73",
   "metadata": {},
   "outputs": [
    {
     "data": {
      "text/plain": [
       "newspaper    0.23\n",
       "radio        0.58\n",
       "TV           0.78\n",
       "sales        1.00\n",
       "Name: sales, dtype: float64"
      ]
     },
     "execution_count": 33,
     "metadata": {},
     "output_type": "execute_result"
    }
   ],
   "source": [
    "round(df.corr()['sales'].sort_values(),2)"
   ]
  },
  {
   "cell_type": "code",
   "execution_count": 34,
   "id": "54ad8c29",
   "metadata": {},
   "outputs": [
    {
     "data": {
      "text/plain": [
       "(200, 4)"
      ]
     },
     "execution_count": 34,
     "metadata": {},
     "output_type": "execute_result"
    }
   ],
   "source": [
    "df.shape"
   ]
  },
  {
   "cell_type": "code",
   "execution_count": 35,
   "id": "da76be47",
   "metadata": {},
   "outputs": [
    {
     "data": {
      "text/html": [
       "<div>\n",
       "<style scoped>\n",
       "    .dataframe tbody tr th:only-of-type {\n",
       "        vertical-align: middle;\n",
       "    }\n",
       "\n",
       "    .dataframe tbody tr th {\n",
       "        vertical-align: top;\n",
       "    }\n",
       "\n",
       "    .dataframe thead th {\n",
       "        text-align: right;\n",
       "    }\n",
       "</style>\n",
       "<table border=\"1\" class=\"dataframe\">\n",
       "  <thead>\n",
       "    <tr style=\"text-align: right;\">\n",
       "      <th></th>\n",
       "      <th>TV</th>\n",
       "      <th>radio</th>\n",
       "      <th>newspaper</th>\n",
       "      <th>sales</th>\n",
       "    </tr>\n",
       "  </thead>\n",
       "  <tbody>\n",
       "    <tr>\n",
       "      <th>0</th>\n",
       "      <td>0.969852</td>\n",
       "      <td>0.981522</td>\n",
       "      <td>1.778945</td>\n",
       "      <td>1.552053</td>\n",
       "    </tr>\n",
       "    <tr>\n",
       "      <th>1</th>\n",
       "      <td>1.197376</td>\n",
       "      <td>1.082808</td>\n",
       "      <td>0.669579</td>\n",
       "      <td>0.696046</td>\n",
       "    </tr>\n",
       "    <tr>\n",
       "      <th>2</th>\n",
       "      <td>1.516155</td>\n",
       "      <td>1.528463</td>\n",
       "      <td>1.783549</td>\n",
       "      <td>0.907406</td>\n",
       "    </tr>\n",
       "    <tr>\n",
       "      <th>3</th>\n",
       "      <td>0.052050</td>\n",
       "      <td>1.217855</td>\n",
       "      <td>1.286405</td>\n",
       "      <td>0.860330</td>\n",
       "    </tr>\n",
       "    <tr>\n",
       "      <th>4</th>\n",
       "      <td>0.394182</td>\n",
       "      <td>0.841614</td>\n",
       "      <td>1.281802</td>\n",
       "      <td>0.215683</td>\n",
       "    </tr>\n",
       "    <tr>\n",
       "      <th>...</th>\n",
       "      <td>...</td>\n",
       "      <td>...</td>\n",
       "      <td>...</td>\n",
       "      <td>...</td>\n",
       "    </tr>\n",
       "    <tr>\n",
       "      <th>195</th>\n",
       "      <td>1.270941</td>\n",
       "      <td>1.321031</td>\n",
       "      <td>0.771217</td>\n",
       "      <td>1.234053</td>\n",
       "    </tr>\n",
       "    <tr>\n",
       "      <th>196</th>\n",
       "      <td>0.617035</td>\n",
       "      <td>1.240003</td>\n",
       "      <td>1.033598</td>\n",
       "      <td>0.830548</td>\n",
       "    </tr>\n",
       "    <tr>\n",
       "      <th>197</th>\n",
       "      <td>0.349810</td>\n",
       "      <td>0.942899</td>\n",
       "      <td>1.111852</td>\n",
       "      <td>0.234898</td>\n",
       "    </tr>\n",
       "    <tr>\n",
       "      <th>198</th>\n",
       "      <td>1.594565</td>\n",
       "      <td>1.265121</td>\n",
       "      <td>1.640850</td>\n",
       "      <td>2.205347</td>\n",
       "    </tr>\n",
       "    <tr>\n",
       "      <th>199</th>\n",
       "      <td>0.993206</td>\n",
       "      <td>0.990165</td>\n",
       "      <td>1.005979</td>\n",
       "      <td>0.119610</td>\n",
       "    </tr>\n",
       "  </tbody>\n",
       "</table>\n",
       "<p>200 rows × 4 columns</p>\n",
       "</div>"
      ],
      "text/plain": [
       "           TV     radio  newspaper     sales\n",
       "0    0.969852  0.981522   1.778945  1.552053\n",
       "1    1.197376  1.082808   0.669579  0.696046\n",
       "2    1.516155  1.528463   1.783549  0.907406\n",
       "3    0.052050  1.217855   1.286405  0.860330\n",
       "4    0.394182  0.841614   1.281802  0.215683\n",
       "..        ...       ...        ...       ...\n",
       "195  1.270941  1.321031   0.771217  1.234053\n",
       "196  0.617035  1.240003   1.033598  0.830548\n",
       "197  0.349810  0.942899   1.111852  0.234898\n",
       "198  1.594565  1.265121   1.640850  2.205347\n",
       "199  0.993206  0.990165   1.005979  0.119610\n",
       "\n",
       "[200 rows x 4 columns]"
      ]
     },
     "execution_count": 35,
     "metadata": {},
     "output_type": "execute_result"
    }
   ],
   "source": [
    "from scipy.stats import zscore\n",
    "z=np.abs(zscore(df))\n",
    "z"
   ]
  },
  {
   "cell_type": "code",
   "execution_count": 36,
   "id": "788d478a",
   "metadata": {},
   "outputs": [
    {
     "data": {
      "text/plain": [
       "(array([ 16, 101], dtype=int64), array([2, 2], dtype=int64))"
      ]
     },
     "execution_count": 36,
     "metadata": {},
     "output_type": "execute_result"
    }
   ],
   "source": [
    "np.where(z>3)"
   ]
  },
  {
   "cell_type": "code",
   "execution_count": 37,
   "id": "b57e3962",
   "metadata": {},
   "outputs": [
    {
     "data": {
      "text/plain": [
       "TV           0.925305\n",
       "radio        0.900494\n",
       "newspaper    3.841171\n",
       "sales        0.292541\n",
       "Name: 16, dtype: float64"
      ]
     },
     "execution_count": 37,
     "metadata": {},
     "output_type": "execute_result"
    }
   ],
   "source": [
    "z.iloc[16]"
   ]
  },
  {
   "cell_type": "markdown",
   "id": "2a075646",
   "metadata": {},
   "source": [
    "outliers in newspaper"
   ]
  },
  {
   "cell_type": "code",
   "execution_count": 38,
   "id": "771c1e70",
   "metadata": {},
   "outputs": [
    {
     "data": {
      "text/plain": [
       "TV           1.744029\n",
       "radio        0.880237\n",
       "newspaper    3.238154\n",
       "sales        1.878700\n",
       "Name: 101, dtype: float64"
      ]
     },
     "execution_count": 38,
     "metadata": {},
     "output_type": "execute_result"
    }
   ],
   "source": [
    "z.iloc[101]"
   ]
  },
  {
   "cell_type": "markdown",
   "id": "50cdbd94",
   "metadata": {},
   "source": [
    "outliers in newspaper"
   ]
  },
  {
   "cell_type": "code",
   "execution_count": 39,
   "id": "ea03d564",
   "metadata": {},
   "outputs": [
    {
     "data": {
      "text/plain": [
       "2"
      ]
     },
     "execution_count": 39,
     "metadata": {},
     "output_type": "execute_result"
    }
   ],
   "source": [
    "len(np.where(z>3))"
   ]
  },
  {
   "cell_type": "code",
   "execution_count": 40,
   "id": "a5da952d",
   "metadata": {},
   "outputs": [
    {
     "name": "stdout",
     "output_type": "stream",
     "text": [
      "Initial dataset (200, 4)\n",
      "New dataset (198, 4)\n",
      "Loss Row in new dataset 2\n"
     ]
    }
   ],
   "source": [
    "df_new=df[(z<3).all(axis=1)]\n",
    "\n",
    "print('Initial dataset',df.shape)\n",
    "print('New dataset',df_new.shape)\n",
    "print('Loss Row in new dataset',(df.shape[0])-(df_new.shape[0]))"
   ]
  },
  {
   "cell_type": "code",
   "execution_count": 41,
   "id": "b27df177",
   "metadata": {},
   "outputs": [
    {
     "data": {
      "text/html": [
       "<div>\n",
       "<style scoped>\n",
       "    .dataframe tbody tr th:only-of-type {\n",
       "        vertical-align: middle;\n",
       "    }\n",
       "\n",
       "    .dataframe tbody tr th {\n",
       "        vertical-align: top;\n",
       "    }\n",
       "\n",
       "    .dataframe thead th {\n",
       "        text-align: right;\n",
       "    }\n",
       "</style>\n",
       "<table border=\"1\" class=\"dataframe\">\n",
       "  <thead>\n",
       "    <tr style=\"text-align: right;\">\n",
       "      <th></th>\n",
       "      <th>TV</th>\n",
       "      <th>radio</th>\n",
       "      <th>newspaper</th>\n",
       "      <th>sales</th>\n",
       "    </tr>\n",
       "  </thead>\n",
       "  <tbody>\n",
       "    <tr>\n",
       "      <th>0</th>\n",
       "      <td>230.1</td>\n",
       "      <td>37.8</td>\n",
       "      <td>69.2</td>\n",
       "      <td>22.1</td>\n",
       "    </tr>\n",
       "    <tr>\n",
       "      <th>1</th>\n",
       "      <td>44.5</td>\n",
       "      <td>39.3</td>\n",
       "      <td>45.1</td>\n",
       "      <td>10.4</td>\n",
       "    </tr>\n",
       "    <tr>\n",
       "      <th>2</th>\n",
       "      <td>17.2</td>\n",
       "      <td>45.9</td>\n",
       "      <td>69.3</td>\n",
       "      <td>9.3</td>\n",
       "    </tr>\n",
       "    <tr>\n",
       "      <th>3</th>\n",
       "      <td>151.5</td>\n",
       "      <td>41.3</td>\n",
       "      <td>58.5</td>\n",
       "      <td>18.5</td>\n",
       "    </tr>\n",
       "    <tr>\n",
       "      <th>4</th>\n",
       "      <td>180.8</td>\n",
       "      <td>10.8</td>\n",
       "      <td>58.4</td>\n",
       "      <td>12.9</td>\n",
       "    </tr>\n",
       "    <tr>\n",
       "      <th>...</th>\n",
       "      <td>...</td>\n",
       "      <td>...</td>\n",
       "      <td>...</td>\n",
       "      <td>...</td>\n",
       "    </tr>\n",
       "    <tr>\n",
       "      <th>195</th>\n",
       "      <td>38.2</td>\n",
       "      <td>3.7</td>\n",
       "      <td>13.8</td>\n",
       "      <td>7.6</td>\n",
       "    </tr>\n",
       "    <tr>\n",
       "      <th>196</th>\n",
       "      <td>94.2</td>\n",
       "      <td>4.9</td>\n",
       "      <td>8.1</td>\n",
       "      <td>9.7</td>\n",
       "    </tr>\n",
       "    <tr>\n",
       "      <th>197</th>\n",
       "      <td>177.0</td>\n",
       "      <td>9.3</td>\n",
       "      <td>6.4</td>\n",
       "      <td>12.8</td>\n",
       "    </tr>\n",
       "    <tr>\n",
       "      <th>198</th>\n",
       "      <td>283.6</td>\n",
       "      <td>42.0</td>\n",
       "      <td>66.2</td>\n",
       "      <td>25.5</td>\n",
       "    </tr>\n",
       "    <tr>\n",
       "      <th>199</th>\n",
       "      <td>232.1</td>\n",
       "      <td>8.6</td>\n",
       "      <td>8.7</td>\n",
       "      <td>13.4</td>\n",
       "    </tr>\n",
       "  </tbody>\n",
       "</table>\n",
       "<p>198 rows × 4 columns</p>\n",
       "</div>"
      ],
      "text/plain": [
       "        TV  radio  newspaper  sales\n",
       "0    230.1   37.8       69.2   22.1\n",
       "1     44.5   39.3       45.1   10.4\n",
       "2     17.2   45.9       69.3    9.3\n",
       "3    151.5   41.3       58.5   18.5\n",
       "4    180.8   10.8       58.4   12.9\n",
       "..     ...    ...        ...    ...\n",
       "195   38.2    3.7       13.8    7.6\n",
       "196   94.2    4.9        8.1    9.7\n",
       "197  177.0    9.3        6.4   12.8\n",
       "198  283.6   42.0       66.2   25.5\n",
       "199  232.1    8.6        8.7   13.4\n",
       "\n",
       "[198 rows x 4 columns]"
      ]
     },
     "execution_count": 41,
     "metadata": {},
     "output_type": "execute_result"
    }
   ],
   "source": [
    "df_new"
   ]
  },
  {
   "cell_type": "code",
   "execution_count": 42,
   "id": "9e47b8ec",
   "metadata": {},
   "outputs": [
    {
     "name": "stderr",
     "output_type": "stream",
     "text": [
      "C:\\Users\\Mahavir Computers\\anaconda3\\lib\\site-packages\\seaborn\\_decorators.py:36: FutureWarning: Pass the following variable as a keyword arg: x. From version 0.12, the only valid positional argument will be `data`, and passing other arguments without an explicit keyword will result in an error or misinterpretation.\n",
      "  warnings.warn(\n"
     ]
    },
    {
     "data": {
      "text/plain": [
       "<AxesSubplot:xlabel='newspaper'>"
      ]
     },
     "execution_count": 42,
     "metadata": {},
     "output_type": "execute_result"
    },
    {
     "data": {
      "image/png": "[encoded data removed]",
      "text/plain": [
       "<Figure size 432x288 with 1 Axes>"
      ]
     },
     "metadata": {
      "needs_background": "light"
     },
     "output_type": "display_data"
    }
   ],
   "source": [
    "sns.boxplot(df_new['newspaper'])"
   ]
  },
  {
   "cell_type": "markdown",
   "id": "08b9fcfd",
   "metadata": {},
   "source": [
    "No outliers"
   ]
  },
  {
   "cell_type": "code",
   "execution_count": 43,
   "id": "6442ad95",
   "metadata": {},
   "outputs": [
    {
     "data": {
      "text/plain": [
       "200"
      ]
     },
     "execution_count": 43,
     "metadata": {},
     "output_type": "execute_result"
    }
   ],
   "source": [
    "df.shape[0]"
   ]
  },
  {
   "cell_type": "code",
   "execution_count": 44,
   "id": "cf6022c6",
   "metadata": {},
   "outputs": [
    {
     "data": {
      "text/plain": [
       "198"
      ]
     },
     "execution_count": 44,
     "metadata": {},
     "output_type": "execute_result"
    }
   ],
   "source": [
    "df_new.shape[0]"
   ]
  },
  {
   "cell_type": "code",
   "execution_count": 45,
   "id": "4b4fccbc",
   "metadata": {},
   "outputs": [
    {
     "name": "stdout",
     "output_type": "stream",
     "text": [
      "1.0 %\n"
     ]
    }
   ],
   "source": [
    "Loss_percentage=(df.shape[0]-df_new.shape[0])/df.shape[0]*100\n",
    "print(round(Loss_percentage,2),'%')"
   ]
  },
  {
   "cell_type": "code",
   "execution_count": 46,
   "id": "0e5bac7d",
   "metadata": {},
   "outputs": [
    {
     "data": {
      "text/html": [
       "<div>\n",
       "<style scoped>\n",
       "    .dataframe tbody tr th:only-of-type {\n",
       "        vertical-align: middle;\n",
       "    }\n",
       "\n",
       "    .dataframe tbody tr th {\n",
       "        vertical-align: top;\n",
       "    }\n",
       "\n",
       "    .dataframe thead th {\n",
       "        text-align: right;\n",
       "    }\n",
       "</style>\n",
       "<table border=\"1\" class=\"dataframe\">\n",
       "  <thead>\n",
       "    <tr style=\"text-align: right;\">\n",
       "      <th></th>\n",
       "      <th>TV</th>\n",
       "      <th>radio</th>\n",
       "      <th>newspaper</th>\n",
       "      <th>sales</th>\n",
       "    </tr>\n",
       "  </thead>\n",
       "  <tbody>\n",
       "    <tr>\n",
       "      <th>0</th>\n",
       "      <td>230.1</td>\n",
       "      <td>37.8</td>\n",
       "      <td>69.2</td>\n",
       "      <td>22.1</td>\n",
       "    </tr>\n",
       "    <tr>\n",
       "      <th>1</th>\n",
       "      <td>44.5</td>\n",
       "      <td>39.3</td>\n",
       "      <td>45.1</td>\n",
       "      <td>10.4</td>\n",
       "    </tr>\n",
       "    <tr>\n",
       "      <th>2</th>\n",
       "      <td>17.2</td>\n",
       "      <td>45.9</td>\n",
       "      <td>69.3</td>\n",
       "      <td>9.3</td>\n",
       "    </tr>\n",
       "    <tr>\n",
       "      <th>3</th>\n",
       "      <td>151.5</td>\n",
       "      <td>41.3</td>\n",
       "      <td>58.5</td>\n",
       "      <td>18.5</td>\n",
       "    </tr>\n",
       "    <tr>\n",
       "      <th>4</th>\n",
       "      <td>180.8</td>\n",
       "      <td>10.8</td>\n",
       "      <td>58.4</td>\n",
       "      <td>12.9</td>\n",
       "    </tr>\n",
       "    <tr>\n",
       "      <th>...</th>\n",
       "      <td>...</td>\n",
       "      <td>...</td>\n",
       "      <td>...</td>\n",
       "      <td>...</td>\n",
       "    </tr>\n",
       "    <tr>\n",
       "      <th>195</th>\n",
       "      <td>38.2</td>\n",
       "      <td>3.7</td>\n",
       "      <td>13.8</td>\n",
       "      <td>7.6</td>\n",
       "    </tr>\n",
       "    <tr>\n",
       "      <th>196</th>\n",
       "      <td>94.2</td>\n",
       "      <td>4.9</td>\n",
       "      <td>8.1</td>\n",
       "      <td>9.7</td>\n",
       "    </tr>\n",
       "    <tr>\n",
       "      <th>197</th>\n",
       "      <td>177.0</td>\n",
       "      <td>9.3</td>\n",
       "      <td>6.4</td>\n",
       "      <td>12.8</td>\n",
       "    </tr>\n",
       "    <tr>\n",
       "      <th>198</th>\n",
       "      <td>283.6</td>\n",
       "      <td>42.0</td>\n",
       "      <td>66.2</td>\n",
       "      <td>25.5</td>\n",
       "    </tr>\n",
       "    <tr>\n",
       "      <th>199</th>\n",
       "      <td>232.1</td>\n",
       "      <td>8.6</td>\n",
       "      <td>8.7</td>\n",
       "      <td>13.4</td>\n",
       "    </tr>\n",
       "  </tbody>\n",
       "</table>\n",
       "<p>200 rows × 4 columns</p>\n",
       "</div>"
      ],
      "text/plain": [
       "        TV  radio  newspaper  sales\n",
       "0    230.1   37.8       69.2   22.1\n",
       "1     44.5   39.3       45.1   10.4\n",
       "2     17.2   45.9       69.3    9.3\n",
       "3    151.5   41.3       58.5   18.5\n",
       "4    180.8   10.8       58.4   12.9\n",
       "..     ...    ...        ...    ...\n",
       "195   38.2    3.7       13.8    7.6\n",
       "196   94.2    4.9        8.1    9.7\n",
       "197  177.0    9.3        6.4   12.8\n",
       "198  283.6   42.0       66.2   25.5\n",
       "199  232.1    8.6        8.7   13.4\n",
       "\n",
       "[200 rows x 4 columns]"
      ]
     },
     "execution_count": 46,
     "metadata": {},
     "output_type": "execute_result"
    }
   ],
   "source": [
    "df"
   ]
  },
  {
   "cell_type": "code",
   "execution_count": 47,
   "id": "dae5a86a",
   "metadata": {},
   "outputs": [
    {
     "data": {
      "text/html": [
       "<div>\n",
       "<style scoped>\n",
       "    .dataframe tbody tr th:only-of-type {\n",
       "        vertical-align: middle;\n",
       "    }\n",
       "\n",
       "    .dataframe tbody tr th {\n",
       "        vertical-align: top;\n",
       "    }\n",
       "\n",
       "    .dataframe thead th {\n",
       "        text-align: right;\n",
       "    }\n",
       "</style>\n",
       "<table border=\"1\" class=\"dataframe\">\n",
       "  <thead>\n",
       "    <tr style=\"text-align: right;\">\n",
       "      <th></th>\n",
       "      <th>TV</th>\n",
       "      <th>radio</th>\n",
       "      <th>newspaper</th>\n",
       "      <th>sales</th>\n",
       "    </tr>\n",
       "  </thead>\n",
       "  <tbody>\n",
       "    <tr>\n",
       "      <th>0</th>\n",
       "      <td>230.1</td>\n",
       "      <td>37.8</td>\n",
       "      <td>69.2</td>\n",
       "      <td>22.1</td>\n",
       "    </tr>\n",
       "    <tr>\n",
       "      <th>1</th>\n",
       "      <td>44.5</td>\n",
       "      <td>39.3</td>\n",
       "      <td>45.1</td>\n",
       "      <td>10.4</td>\n",
       "    </tr>\n",
       "    <tr>\n",
       "      <th>2</th>\n",
       "      <td>17.2</td>\n",
       "      <td>45.9</td>\n",
       "      <td>69.3</td>\n",
       "      <td>9.3</td>\n",
       "    </tr>\n",
       "    <tr>\n",
       "      <th>3</th>\n",
       "      <td>151.5</td>\n",
       "      <td>41.3</td>\n",
       "      <td>58.5</td>\n",
       "      <td>18.5</td>\n",
       "    </tr>\n",
       "    <tr>\n",
       "      <th>4</th>\n",
       "      <td>180.8</td>\n",
       "      <td>10.8</td>\n",
       "      <td>58.4</td>\n",
       "      <td>12.9</td>\n",
       "    </tr>\n",
       "    <tr>\n",
       "      <th>...</th>\n",
       "      <td>...</td>\n",
       "      <td>...</td>\n",
       "      <td>...</td>\n",
       "      <td>...</td>\n",
       "    </tr>\n",
       "    <tr>\n",
       "      <th>195</th>\n",
       "      <td>38.2</td>\n",
       "      <td>3.7</td>\n",
       "      <td>13.8</td>\n",
       "      <td>7.6</td>\n",
       "    </tr>\n",
       "    <tr>\n",
       "      <th>196</th>\n",
       "      <td>94.2</td>\n",
       "      <td>4.9</td>\n",
       "      <td>8.1</td>\n",
       "      <td>9.7</td>\n",
       "    </tr>\n",
       "    <tr>\n",
       "      <th>197</th>\n",
       "      <td>177.0</td>\n",
       "      <td>9.3</td>\n",
       "      <td>6.4</td>\n",
       "      <td>12.8</td>\n",
       "    </tr>\n",
       "    <tr>\n",
       "      <th>198</th>\n",
       "      <td>283.6</td>\n",
       "      <td>42.0</td>\n",
       "      <td>66.2</td>\n",
       "      <td>25.5</td>\n",
       "    </tr>\n",
       "    <tr>\n",
       "      <th>199</th>\n",
       "      <td>232.1</td>\n",
       "      <td>8.6</td>\n",
       "      <td>8.7</td>\n",
       "      <td>13.4</td>\n",
       "    </tr>\n",
       "  </tbody>\n",
       "</table>\n",
       "<p>198 rows × 4 columns</p>\n",
       "</div>"
      ],
      "text/plain": [
       "        TV  radio  newspaper  sales\n",
       "0    230.1   37.8       69.2   22.1\n",
       "1     44.5   39.3       45.1   10.4\n",
       "2     17.2   45.9       69.3    9.3\n",
       "3    151.5   41.3       58.5   18.5\n",
       "4    180.8   10.8       58.4   12.9\n",
       "..     ...    ...        ...    ...\n",
       "195   38.2    3.7       13.8    7.6\n",
       "196   94.2    4.9        8.1    9.7\n",
       "197  177.0    9.3        6.4   12.8\n",
       "198  283.6   42.0       66.2   25.5\n",
       "199  232.1    8.6        8.7   13.4\n",
       "\n",
       "[198 rows x 4 columns]"
      ]
     },
     "execution_count": 47,
     "metadata": {},
     "output_type": "execute_result"
    }
   ],
   "source": [
    "df_new"
   ]
  },
  {
   "cell_type": "code",
   "execution_count": 48,
   "id": "7797f54e",
   "metadata": {
    "scrolled": false
   },
   "outputs": [
    {
     "data": {
      "text/html": [
       "<div>\n",
       "<style scoped>\n",
       "    .dataframe tbody tr th:only-of-type {\n",
       "        vertical-align: middle;\n",
       "    }\n",
       "\n",
       "    .dataframe tbody tr th {\n",
       "        vertical-align: top;\n",
       "    }\n",
       "\n",
       "    .dataframe thead th {\n",
       "        text-align: right;\n",
       "    }\n",
       "</style>\n",
       "<table border=\"1\" class=\"dataframe\">\n",
       "  <thead>\n",
       "    <tr style=\"text-align: right;\">\n",
       "      <th></th>\n",
       "      <th>TV</th>\n",
       "      <th>radio</th>\n",
       "      <th>newspaper</th>\n",
       "    </tr>\n",
       "  </thead>\n",
       "  <tbody>\n",
       "    <tr>\n",
       "      <th>0</th>\n",
       "      <td>230.1</td>\n",
       "      <td>37.8</td>\n",
       "      <td>69.2</td>\n",
       "    </tr>\n",
       "    <tr>\n",
       "      <th>1</th>\n",
       "      <td>44.5</td>\n",
       "      <td>39.3</td>\n",
       "      <td>45.1</td>\n",
       "    </tr>\n",
       "    <tr>\n",
       "      <th>2</th>\n",
       "      <td>17.2</td>\n",
       "      <td>45.9</td>\n",
       "      <td>69.3</td>\n",
       "    </tr>\n",
       "    <tr>\n",
       "      <th>3</th>\n",
       "      <td>151.5</td>\n",
       "      <td>41.3</td>\n",
       "      <td>58.5</td>\n",
       "    </tr>\n",
       "    <tr>\n",
       "      <th>4</th>\n",
       "      <td>180.8</td>\n",
       "      <td>10.8</td>\n",
       "      <td>58.4</td>\n",
       "    </tr>\n",
       "    <tr>\n",
       "      <th>...</th>\n",
       "      <td>...</td>\n",
       "      <td>...</td>\n",
       "      <td>...</td>\n",
       "    </tr>\n",
       "    <tr>\n",
       "      <th>195</th>\n",
       "      <td>38.2</td>\n",
       "      <td>3.7</td>\n",
       "      <td>13.8</td>\n",
       "    </tr>\n",
       "    <tr>\n",
       "      <th>196</th>\n",
       "      <td>94.2</td>\n",
       "      <td>4.9</td>\n",
       "      <td>8.1</td>\n",
       "    </tr>\n",
       "    <tr>\n",
       "      <th>197</th>\n",
       "      <td>177.0</td>\n",
       "      <td>9.3</td>\n",
       "      <td>6.4</td>\n",
       "    </tr>\n",
       "    <tr>\n",
       "      <th>198</th>\n",
       "      <td>283.6</td>\n",
       "      <td>42.0</td>\n",
       "      <td>66.2</td>\n",
       "    </tr>\n",
       "    <tr>\n",
       "      <th>199</th>\n",
       "      <td>232.1</td>\n",
       "      <td>8.6</td>\n",
       "      <td>8.7</td>\n",
       "    </tr>\n",
       "  </tbody>\n",
       "</table>\n",
       "<p>200 rows × 3 columns</p>\n",
       "</div>"
      ],
      "text/plain": [
       "        TV  radio  newspaper\n",
       "0    230.1   37.8       69.2\n",
       "1     44.5   39.3       45.1\n",
       "2     17.2   45.9       69.3\n",
       "3    151.5   41.3       58.5\n",
       "4    180.8   10.8       58.4\n",
       "..     ...    ...        ...\n",
       "195   38.2    3.7       13.8\n",
       "196   94.2    4.9        8.1\n",
       "197  177.0    9.3        6.4\n",
       "198  283.6   42.0       66.2\n",
       "199  232.1    8.6        8.7\n",
       "\n",
       "[200 rows x 3 columns]"
      ]
     },
     "execution_count": 48,
     "metadata": {},
     "output_type": "execute_result"
    }
   ],
   "source": [
    "x=df.iloc[:,:-1]\n",
    "x"
   ]
  },
  {
   "cell_type": "code",
   "execution_count": 49,
   "id": "5f809f0b",
   "metadata": {
    "scrolled": true
   },
   "outputs": [
    {
     "data": {
      "text/plain": [
       "0      22.1\n",
       "1      10.4\n",
       "2       9.3\n",
       "3      18.5\n",
       "4      12.9\n",
       "       ... \n",
       "195     7.6\n",
       "196     9.7\n",
       "197    12.8\n",
       "198    25.5\n",
       "199    13.4\n",
       "Name: sales, Length: 200, dtype: float64"
      ]
     },
     "execution_count": 49,
     "metadata": {},
     "output_type": "execute_result"
    }
   ],
   "source": [
    "y=df.iloc[:,-1]\n",
    "y"
   ]
  },
  {
   "cell_type": "code",
   "execution_count": 50,
   "id": "057422a0",
   "metadata": {},
   "outputs": [
    {
     "data": {
      "text/html": [
       "<div>\n",
       "<style scoped>\n",
       "    .dataframe tbody tr th:only-of-type {\n",
       "        vertical-align: middle;\n",
       "    }\n",
       "\n",
       "    .dataframe tbody tr th {\n",
       "        vertical-align: top;\n",
       "    }\n",
       "\n",
       "    .dataframe thead th {\n",
       "        text-align: right;\n",
       "    }\n",
       "</style>\n",
       "<table border=\"1\" class=\"dataframe\">\n",
       "  <thead>\n",
       "    <tr style=\"text-align: right;\">\n",
       "      <th></th>\n",
       "      <th>TV</th>\n",
       "      <th>radio</th>\n",
       "      <th>newspaper</th>\n",
       "    </tr>\n",
       "  </thead>\n",
       "  <tbody>\n",
       "    <tr>\n",
       "      <th>0</th>\n",
       "      <td>230.1</td>\n",
       "      <td>37.8</td>\n",
       "      <td>69.2</td>\n",
       "    </tr>\n",
       "    <tr>\n",
       "      <th>1</th>\n",
       "      <td>44.5</td>\n",
       "      <td>39.3</td>\n",
       "      <td>45.1</td>\n",
       "    </tr>\n",
       "    <tr>\n",
       "      <th>2</th>\n",
       "      <td>17.2</td>\n",
       "      <td>45.9</td>\n",
       "      <td>69.3</td>\n",
       "    </tr>\n",
       "    <tr>\n",
       "      <th>3</th>\n",
       "      <td>151.5</td>\n",
       "      <td>41.3</td>\n",
       "      <td>58.5</td>\n",
       "    </tr>\n",
       "    <tr>\n",
       "      <th>4</th>\n",
       "      <td>180.8</td>\n",
       "      <td>10.8</td>\n",
       "      <td>58.4</td>\n",
       "    </tr>\n",
       "    <tr>\n",
       "      <th>...</th>\n",
       "      <td>...</td>\n",
       "      <td>...</td>\n",
       "      <td>...</td>\n",
       "    </tr>\n",
       "    <tr>\n",
       "      <th>195</th>\n",
       "      <td>38.2</td>\n",
       "      <td>3.7</td>\n",
       "      <td>13.8</td>\n",
       "    </tr>\n",
       "    <tr>\n",
       "      <th>196</th>\n",
       "      <td>94.2</td>\n",
       "      <td>4.9</td>\n",
       "      <td>8.1</td>\n",
       "    </tr>\n",
       "    <tr>\n",
       "      <th>197</th>\n",
       "      <td>177.0</td>\n",
       "      <td>9.3</td>\n",
       "      <td>6.4</td>\n",
       "    </tr>\n",
       "    <tr>\n",
       "      <th>198</th>\n",
       "      <td>283.6</td>\n",
       "      <td>42.0</td>\n",
       "      <td>66.2</td>\n",
       "    </tr>\n",
       "    <tr>\n",
       "      <th>199</th>\n",
       "      <td>232.1</td>\n",
       "      <td>8.6</td>\n",
       "      <td>8.7</td>\n",
       "    </tr>\n",
       "  </tbody>\n",
       "</table>\n",
       "<p>198 rows × 3 columns</p>\n",
       "</div>"
      ],
      "text/plain": [
       "        TV  radio  newspaper\n",
       "0    230.1   37.8       69.2\n",
       "1     44.5   39.3       45.1\n",
       "2     17.2   45.9       69.3\n",
       "3    151.5   41.3       58.5\n",
       "4    180.8   10.8       58.4\n",
       "..     ...    ...        ...\n",
       "195   38.2    3.7       13.8\n",
       "196   94.2    4.9        8.1\n",
       "197  177.0    9.3        6.4\n",
       "198  283.6   42.0       66.2\n",
       "199  232.1    8.6        8.7\n",
       "\n",
       "[198 rows x 3 columns]"
      ]
     },
     "execution_count": 50,
     "metadata": {},
     "output_type": "execute_result"
    }
   ],
   "source": [
    "x1=df_new.iloc[:,:-1]\n",
    "x1"
   ]
  },
  {
   "cell_type": "code",
   "execution_count": 51,
   "id": "8dbe5f0b",
   "metadata": {},
   "outputs": [
    {
     "data": {
      "text/plain": [
       "0      22.1\n",
       "1      10.4\n",
       "2       9.3\n",
       "3      18.5\n",
       "4      12.9\n",
       "       ... \n",
       "195     7.6\n",
       "196     9.7\n",
       "197    12.8\n",
       "198    25.5\n",
       "199    13.4\n",
       "Name: sales, Length: 198, dtype: float64"
      ]
     },
     "execution_count": 51,
     "metadata": {},
     "output_type": "execute_result"
    }
   ],
   "source": [
    "y1=df_new.iloc[:,-1]\n",
    "y1"
   ]
  },
  {
   "cell_type": "code",
   "execution_count": 52,
   "id": "27806550",
   "metadata": {},
   "outputs": [
    {
     "data": {
      "text/plain": [
       "TV          -0.082332\n",
       "radio        0.114842\n",
       "newspaper    0.650112\n",
       "sales        0.407130\n",
       "dtype: float64"
      ]
     },
     "execution_count": 52,
     "metadata": {},
     "output_type": "execute_result"
    }
   ],
   "source": [
    "df_new.skew()"
   ]
  },
  {
   "cell_type": "markdown",
   "id": "af1d0511",
   "metadata": {},
   "source": [
    "Moderate skewness is present in newspaper"
   ]
  },
  {
   "cell_type": "code",
   "execution_count": 53,
   "id": "213ff00e",
   "metadata": {},
   "outputs": [],
   "source": [
    "from sklearn.preprocessing import power_transform\n",
    "x1=power_transform(x1, method='yeo-johnson')"
   ]
  },
  {
   "cell_type": "code",
   "execution_count": 68,
   "id": "4b3335d1",
   "metadata": {
    "scrolled": false
   },
   "outputs": [
    {
     "data": {
      "text/plain": [
       "numpy.ndarray"
      ]
     },
     "execution_count": 68,
     "metadata": {},
     "output_type": "execute_result"
    }
   ],
   "source": [
    "type(x1)"
   ]
  },
  {
   "cell_type": "code",
   "execution_count": 69,
   "id": "fa310961",
   "metadata": {
    "scrolled": false
   },
   "outputs": [
    {
     "data": {
      "text/plain": [
       "array([[ 0.95598306,  0.9691098 ,  1.6041965 ],\n",
       "       [-1.19200349,  1.04623436,  0.83104401],\n",
       "       [-1.6461253 ,  1.37296802,  1.60705249],\n",
       "       [ 0.14293428,  1.1473316 ,  1.28376774],\n",
       "       [ 0.45645241, -0.73502642,  1.28062154],\n",
       "       [-1.8204008 ,  1.51543955,  1.76610727],\n",
       "       [-1.00349358,  0.70309642, -0.10205346],\n",
       "       [-0.20996049, -0.0876566 , -0.84968895],\n",
       "       [-1.82264543, -1.62948287, -2.09866461],\n",
       "       [ 0.652694  , -1.56152179, -0.22649933],\n",
       "       [-0.88482761, -1.19258569, -0.06553382],\n",
       "       [ 0.80322028,  0.19357553, -1.59608414],\n",
       "       [-1.52567125,  0.82725998,  1.50859232],\n",
       "       [-0.48090308, -1.01613619, -1.23269654],\n",
       "       [ 0.69642374,  0.70856268,  0.86367455],\n",
       "       [ 0.60769456,  1.45886692,  1.1026083 ],\n",
       "       [ 1.44702338,  1.06152278,  1.19771741],\n",
       "       [-0.84304109, -0.02834315, -0.39458775],\n",
       "       [ 0.09676151,  0.18741189, -0.346834  ],\n",
       "       [ 0.84017479,  0.41523303,  1.11921444],\n",
       "       [ 1.02746612, -1.2660875 , -0.10205346],\n",
       "       [-1.72466475, -0.3430802 ,  0.99069777],\n",
       "       [ 0.93826742, -0.27204438,  0.0356758 ],\n",
       "       [-0.93674187, -0.59023588, -0.39458775],\n",
       "       [ 1.27285397, -1.44792482, -0.32336998],\n",
       "       [ 0.04802388,  0.50756488, -0.7740548 ],\n",
       "       [ 1.05376032, -0.28612399, -0.13384051],\n",
       "       [ 1.13797152,  0.38008881, -0.13384051],\n",
       "       [-0.82432769, -0.33590351,  0.66980347],\n",
       "       [ 1.55379249,  0.45008922,  0.76092313],\n",
       "       [-0.29552539, -0.23711359,  0.58357284],\n",
       "       [-0.48458608, -1.71704857,  0.21669702],\n",
       "       [ 1.29846636, -0.06117169, -2.2758464 ],\n",
       "       [-0.50304519, -1.7324148 , -1.21299201],\n",
       "       [ 1.53345233, -1.3771472 , -1.10919482],\n",
       "       [ 1.31077419,  1.27109462, -1.4708598 ],\n",
       "       [-0.77006157,  1.53885314,  0.85283827],\n",
       "       [-1.21308859,  0.35649509,  0.44045973],\n",
       "       [ 0.93531131,  0.96392681,  0.30682057],\n",
       "       [ 0.68018031,  0.08742886,  0.28905461],\n",
       "       [ 0.4165774 ,  0.73579933,  0.58755182],\n",
       "       [ 1.56025605,  0.41523303, -1.93614969],\n",
       "       [ 0.72477076, -0.94246393,  0.04555612],\n",
       "       [-1.50299171,  0.29691633,  0.76465678],\n",
       "       [ 0.39655706,  0.10007132,  0.2845934 ],\n",
       "       [-0.5776425 , -0.81067203,  0.46554742],\n",
       "       [ 1.05181524,  1.15733673, -0.38254334],\n",
       "       [ 0.92742341, -0.35027362,  1.00104316],\n",
       "       [-0.87399682, -0.66162053,  0.51093113],\n",
       "       [ 0.652694  , -1.49718987,  0.41936802],\n",
       "       [-0.44544938, -0.83642883, -1.65023317],\n",
       "       [ 0.82021967,  1.16732335,  0.62310406],\n",
       "       [ 0.47526481,  1.38737344,  1.29005095],\n",
       "       [ 1.27095405,  0.47892195, -0.54515187],\n",
       "       [ 0.6435106 ,  1.53885314,  1.33059751],\n",
       "       [-1.85241088,  0.43850198,  0.6928619 ],\n",
       "       [-0.02694246, -0.11434473, -0.50002298],\n",
       "       [ 0.7640894 ,  1.54819296,  0.54749686],\n",
       "       [ 0.76308359,  0.51896989, -1.03801781],\n",
       "       [-1.06021399, -1.64357954, -0.21538949],\n",
       "       [ 1.25764412,  1.21698291,  1.16198054],\n",
       "       [ 1.04597746, -0.37195568,  0.08950799],\n",
       "       [-0.41751811,  0.52466135, -1.11833294],\n",
       "       [-0.08464536,  1.22192414,  0.16568658],\n",
       "       [-0.84572231, -0.8624742 , -2.12148202],\n",
       "       [-1.39528628,  0.23035564, -1.86501   ],\n",
       "       [ 0.00785902, -0.44537697, -0.96167639],\n",
       "       [ 1.02746612,  0.40355071, -0.89675177],\n",
       "       [ 0.8242145 ,  1.27598779,  0.08466485],\n",
       "       [ 0.64555228,  0.58117899,  0.58755182],\n",
       "       [-0.33228945, -0.46028254,  0.29350789],\n",
       "       [-1.47377148,  0.71402259, -0.33506848],\n",
       "       [-0.10400761, -1.202897  ,  0.27564704],\n",
       "       [ 0.79019725,  0.23035564, -0.73744518],\n",
       "       [-1.65184774,  1.26619715,  2.13937255],\n",
       "       [-1.46187563, -1.70192244, -0.25453031],\n",
       "       [-0.20647326,  0.46164538, -0.65947105],\n",
       "       [-1.89822804,  0.54169198, -1.02934918],\n",
       "       [-0.25902053, -1.00678392, -0.12319395],\n",
       "       [-0.74778651,  0.35649509, -0.16609367],\n",
       "       [ 1.05084254, -1.3771472 ,  0.51501874],\n",
       "       [-0.76218508, -0.04143812,  0.32885333],\n",
       "       [-0.85377796,  1.30525722,  0.46138274],\n",
       "       [ 0.79119975,  1.23179329,  0.38526098],\n",
       "       [ 0.58509675, -0.16835339,  1.50271112],\n",
       "       [-0.74909326,  0.40355071, -0.53863938],\n",
       "       [-0.32158879,  1.11216604,  1.42831665],\n",
       "       [-0.59523084,  0.28489586,  1.72217946],\n",
       "       [-0.33228945,  1.4636021 ,  1.05224719],\n",
       "       [-0.04837336, -1.28768913, -1.03801781],\n",
       "       [-1.44333425, -1.71704857,  0.35069626],\n",
       "       [ 0.8331959 ,  0.74122791,  1.29945293],\n",
       "       [ 1.15818339,  0.90131402,  1.69166052],\n",
       "       [-0.36093577, -0.4827855 , -0.90472726],\n",
       "       [ 0.2709304 ,  0.63699688,  1.1026083 ],\n",
       "       [ 0.63022667, -1.44792482, -1.36815587],\n",
       "       [ 0.49923329,  0.00418624, -0.18240095],\n",
       "       [ 1.52419364,  1.19717332,  1.04546953],\n",
       "       [-0.0382122 ,  1.16732335,  0.86006693],\n",
       "       [ 0.87994389, -1.35429375,  0.99759864],\n",
       "       [ 1.43581778, -0.79365568, -0.21538949],\n",
       "       [ 0.53038105, -0.25104051, -0.41889554],\n",
       "       [ 1.03526502,  0.78443582, -1.43568966],\n",
       "       [-0.00783277,  1.39695704,  1.29945293],\n",
       "       [-1.50472569, -0.71852874,  0.20289058],\n",
       "       [-0.56887482, -1.92277996, -0.11788987],\n",
       "       [-1.72669682, -1.90334954,  0.00577961],\n",
       "       [ 1.20134779,  0.36830859, -1.41277956],\n",
       "       [ 0.91360226, -0.96064272,  1.22025052],\n",
       "       [ 1.06930594,  0.97946003, -0.11788987],\n",
       "       [ 0.40288531, -0.37921745, -1.83137048],\n",
       "       [ 0.75201155, -0.02181365, -0.9207956 ],\n",
       "       [-0.72433929,  1.41607663,  0.41512911],\n",
       "       [-0.76480878,  0.82192754,  1.09594084],\n",
       "       [ 0.00673953, -0.46028254,  0.00577961],\n",
       "       [-0.74778651, -1.83055994, -0.61831443],\n",
       "       [-0.14637764,  0.92227141,  1.87892616],\n",
       "       [-1.60487761, -0.33590351, -0.16609367],\n",
       "       [ 0.03020546,  0.36240602,  0.87087647],\n",
       "       [-1.61600701,  0.04924266,  1.01820721],\n",
       "       [ 0.89579959, -1.58822992, -0.56482448],\n",
       "       [-0.17634363,  0.8005392 , -0.78891695],\n",
       "       [ 0.95008184,  0.67566908,  1.7442111 ],\n",
       "       [-0.60910057, -0.65359273,  0.02077604],\n",
       "       [-1.84082856,  1.02577993,  1.02504572],\n",
       "       [-0.69844865, -1.98495808, -1.04673537],\n",
       "       [ 0.8590884 ,  1.52012963, -1.70718676],\n",
       "       [-0.97412104, -0.63761079,  0.75718457],\n",
       "       [-2.03323356,  1.06152278, -1.09108448],\n",
       "       [ 1.2946762 , -1.52253007,  0.7534411 ],\n",
       "       [-1.82715302,  0.38596655, -1.88228781],\n",
       "       [ 0.85411524,  0.74122791,  0.83104401],\n",
       "       [-1.30867028,  1.0103861 ,  1.49976669],\n",
       "       [-1.13560137,  1.42561279, -1.10919482],\n",
       "       [-1.49434751,  1.03090107, -1.03801781],\n",
       "       [ 1.37490294,  0.48466558,  1.32128542],\n",
       "       [-1.21460127,  0.30890141, -0.2658475 ],\n",
       "       [ 0.49923329,  1.27598779, -1.95484304],\n",
       "       [-0.78718324, -0.2650278 , -0.75199725],\n",
       "       [ 0.59023843,  0.84322253,  1.78244184],\n",
       "       [ 0.86107685,  0.72492349,  0.55555544],\n",
       "       [-0.39456576, -1.202897  ,  0.41088327],\n",
       "       [-0.49688394, -0.42315979,  0.59549238],\n",
       "       [ 0.01904252, -1.65786243, -1.06432036],\n",
       "       [ 1.05376032, -1.04445327, -1.09108448],\n",
       "       [ 1.08385578,  1.52012963,  0.80172759],\n",
       "       [-1.29143203,  1.09702388, -0.82664429],\n",
       "       [-1.1890052 ,  0.30291327, -0.26018131],\n",
       "       [ 1.44048829, -0.49032576,  0.51910011],\n",
       "       [-0.20066619, -0.94246393,  0.95944652],\n",
       "       [ 0.63022667,  0.15022331, -0.65947105],\n",
       "       [ 0.35634693,  1.06660903,  0.54749686],\n",
       "       [ 0.52934487,  0.01065705, -1.02072873],\n",
       "       [-1.93163495, -0.66967326, -1.39027462],\n",
       "       [-0.52529469,  1.25638925,  1.02162839],\n",
       "       [ 0.12428563, -1.74803521, -0.06036496],\n",
       "       [-1.75555556,  0.92227141,  0.83468776],\n",
       "       [-0.07782712, -0.16835339,  0.41936802],\n",
       "       [ 0.36906953, -0.18883181,  0.24861364],\n",
       "       [-0.62808655,  0.86442562,  0.98031676],\n",
       "       [ 0.5355598 , -0.18883181,  0.00577961],\n",
       "       [ 0.2730788 ,  0.91704026, -1.21299201],\n",
       "       [-0.24495734, -0.43054692, -1.42418272],\n",
       "       [ 0.99913782, -1.46007371,  2.02414625],\n",
       "       [-1.63286723,  0.95873855, -0.20433701],\n",
       "       [ 0.72376009, -1.25539136, -0.32921092],\n",
       "       [ 0.81022423,  0.16886223,  1.25534066],\n",
       "       [ 1.47405264, -0.75163452, -1.31443661],\n",
       "       [-1.11073781, -0.66967326, -0.38855655],\n",
       "       [ 0.28381064, -0.00229617,  0.91372099],\n",
       "       [-1.60118681, -0.05458158, -0.47470116],\n",
       "       [ 0.32550506, -1.06355551, -0.75931882],\n",
       "       [ 0.87994389, -1.46007371, -0.73744518],\n",
       "       [ 1.40493806,  1.51543955,  0.70812926],\n",
       "       [ 1.13411664,  0.55865764, -0.27722588],\n",
       "       [ 0.34466429, -0.99747386,  0.44465771],\n",
       "       [ 1.40306351, -1.60181548, -0.09155822],\n",
       "       [ 0.29559622, -0.80214864, -0.43732278],\n",
       "       [ 0.19855946, -1.56152179, -1.12752759],\n",
       "       [ 0.8411713 , -1.23420066,  0.09434122],\n",
       "       [-1.02181379, -1.202897  ,  0.20289058],\n",
       "       [ 1.50472337,  1.23179329,  1.67770049],\n",
       "       [ 1.18602318,  0.02356422,  0.21669702],\n",
       "       [ 0.70554619,  1.33437513, -0.31754553],\n",
       "       [ 0.01009737, -1.62948287,  0.05539471],\n",
       "       [ 0.56346396,  0.47317073, -0.40063711],\n",
       "       [ 1.48986416, -0.49032576, -1.63644784],\n",
       "       [-1.61787038, -0.62965614, -0.1073197 ],\n",
       "       [-1.26812741,  1.13730782, -1.3791681 ],\n",
       "       [-0.75956316, -0.73502642, -1.3572358 ],\n",
       "       [-1.6461253 , -1.3771472 ,  0.28905461],\n",
       "       [ 0.30843016,  1.18226883, -1.65023317],\n",
       "       [ 0.12318696,  0.85383548, -1.3572358 ],\n",
       "       [-1.28831146, -1.42394128, -0.68743455],\n",
       "       [-0.52157887, -1.28768913, -1.14609038],\n",
       "       [ 0.4165774 , -0.8624742 , -1.31443661],\n",
       "       [ 1.4675349 ,  1.18226883,  1.51739504],\n",
       "       [ 0.97562509, -0.92443675, -1.09108448]])"
      ]
     },
     "execution_count": 69,
     "metadata": {},
     "output_type": "execute_result"
    }
   ],
   "source": [
    "x1"
   ]
  },
  {
   "cell_type": "code",
   "execution_count": null,
   "id": "d8ae4cf4",
   "metadata": {},
   "outputs": [],
   "source": []
  },
  {
   "cell_type": "code",
   "execution_count": 55,
   "id": "996dbe1f",
   "metadata": {},
   "outputs": [
    {
     "data": {
      "text/plain": [
       "TV          -0.082332\n",
       "radio        0.114842\n",
       "newspaper    0.650112\n",
       "sales        0.407130\n",
       "dtype: float64"
      ]
     },
     "execution_count": 55,
     "metadata": {},
     "output_type": "execute_result"
    }
   ],
   "source": [
    "df_new.skew()"
   ]
  },
  {
   "cell_type": "code",
   "execution_count": 56,
   "id": "eab62442",
   "metadata": {},
   "outputs": [
    {
     "name": "stderr",
     "output_type": "stream",
     "text": [
      "C:\\Users\\Mahavir Computers\\anaconda3\\lib\\site-packages\\seaborn\\distributions.py:2619: FutureWarning: `distplot` is a deprecated function and will be removed in a future version. Please adapt your code to use either `displot` (a figure-level function with similar flexibility) or `histplot` (an axes-level function for histograms).\n",
      "  warnings.warn(msg, FutureWarning)\n"
     ]
    },
    {
     "data": {
      "text/plain": [
       "<AxesSubplot:xlabel='newspaper', ylabel='Density'>"
      ]
     },
     "execution_count": 56,
     "metadata": {},
     "output_type": "execute_result"
    },
    {
     "data": {
      "image/png": "[encoded data removed]",
      "text/plain": [
       "<Figure size 432x288 with 1 Axes>"
      ]
     },
     "metadata": {
      "needs_background": "light"
     },
     "output_type": "display_data"
    }
   ],
   "source": [
    "sns.distplot(df['newspaper'])"
   ]
  },
  {
   "cell_type": "markdown",
   "id": "53906ca3",
   "metadata": {},
   "source": [
    "Initial dataset-right skewness"
   ]
  },
  {
   "cell_type": "code",
   "execution_count": 57,
   "id": "d41be9b6",
   "metadata": {},
   "outputs": [
    {
     "name": "stderr",
     "output_type": "stream",
     "text": [
      "C:\\Users\\Mahavir Computers\\anaconda3\\lib\\site-packages\\seaborn\\distributions.py:2619: FutureWarning: `distplot` is a deprecated function and will be removed in a future version. Please adapt your code to use either `displot` (a figure-level function with similar flexibility) or `histplot` (an axes-level function for histograms).\n",
      "  warnings.warn(msg, FutureWarning)\n"
     ]
    },
    {
     "data": {
      "text/plain": [
       "<AxesSubplot:xlabel='newspaper', ylabel='Density'>"
      ]
     },
     "execution_count": 57,
     "metadata": {},
     "output_type": "execute_result"
    },
    {
     "data": {
      "image/png": "[encoded data removed]",
      "text/plain": [
       "<Figure size 432x288 with 1 Axes>"
      ]
     },
     "metadata": {
      "needs_background": "light"
     },
     "output_type": "display_data"
    }
   ],
   "source": [
    "sns.distplot(df_new['newspaper'])"
   ]
  },
  {
   "cell_type": "markdown",
   "id": "fc5951a0",
   "metadata": {},
   "source": [
    "No skewness"
   ]
  },
  {
   "cell_type": "code",
   "execution_count": 59,
   "id": "90624f58",
   "metadata": {},
   "outputs": [
    {
     "name": "stderr",
     "output_type": "stream",
     "text": [
      "C:\\Users\\Mahavir Computers\\anaconda3\\lib\\site-packages\\seaborn\\distributions.py:2619: FutureWarning: `distplot` is a deprecated function and will be removed in a future version. Please adapt your code to use either `displot` (a figure-level function with similar flexibility) or `histplot` (an axes-level function for histograms).\n",
      "  warnings.warn(msg, FutureWarning)\n"
     ]
    },
    {
     "data": {
      "text/plain": [
       "<AxesSubplot:xlabel='TV', ylabel='Density'>"
      ]
     },
     "execution_count": 59,
     "metadata": {},
     "output_type": "execute_result"
    },
    {
     "data": {
      "image/png": "[encoded data removed]",
      "text/plain": [
       "<Figure size 432x288 with 1 Axes>"
      ]
     },
     "metadata": {
      "needs_background": "light"
     },
     "output_type": "display_data"
    }
   ],
   "source": [
    "sns.distplot(df['TV'])"
   ]
  },
  {
   "cell_type": "code",
   "execution_count": 60,
   "id": "75aaa0e4",
   "metadata": {},
   "outputs": [
    {
     "name": "stderr",
     "output_type": "stream",
     "text": [
      "C:\\Users\\Mahavir Computers\\anaconda3\\lib\\site-packages\\seaborn\\distributions.py:2619: FutureWarning: `distplot` is a deprecated function and will be removed in a future version. Please adapt your code to use either `displot` (a figure-level function with similar flexibility) or `histplot` (an axes-level function for histograms).\n",
      "  warnings.warn(msg, FutureWarning)\n"
     ]
    },
    {
     "data": {
      "text/plain": [
       "<AxesSubplot:xlabel='TV', ylabel='Density'>"
      ]
     },
     "execution_count": 60,
     "metadata": {},
     "output_type": "execute_result"
    },
    {
     "data": {
      "image/png": "[encoded data removed]",
      "text/plain": [
       "<Figure size 432x288 with 1 Axes>"
      ]
     },
     "metadata": {
      "needs_background": "light"
     },
     "output_type": "display_data"
    }
   ],
   "source": [
    "sns.distplot(df_new['TV'])"
   ]
  },
  {
   "cell_type": "code",
   "execution_count": 61,
   "id": "e1efbcb9",
   "metadata": {},
   "outputs": [
    {
     "name": "stderr",
     "output_type": "stream",
     "text": [
      "C:\\Users\\Mahavir Computers\\anaconda3\\lib\\site-packages\\seaborn\\distributions.py:2619: FutureWarning: `distplot` is a deprecated function and will be removed in a future version. Please adapt your code to use either `displot` (a figure-level function with similar flexibility) or `histplot` (an axes-level function for histograms).\n",
      "  warnings.warn(msg, FutureWarning)\n"
     ]
    },
    {
     "data": {
      "text/plain": [
       "<AxesSubplot:xlabel='radio', ylabel='Density'>"
      ]
     },
     "execution_count": 61,
     "metadata": {},
     "output_type": "execute_result"
    },
    {
     "data": {
      "image/png": "[encoded data removed]",
      "text/plain": [
       "<Figure size 432x288 with 1 Axes>"
      ]
     },
     "metadata": {
      "needs_background": "light"
     },
     "output_type": "display_data"
    }
   ],
   "source": [
    "sns.distplot(df['radio'])"
   ]
  },
  {
   "cell_type": "code",
   "execution_count": 62,
   "id": "842ea5c7",
   "metadata": {},
   "outputs": [
    {
     "name": "stderr",
     "output_type": "stream",
     "text": [
      "C:\\Users\\Mahavir Computers\\anaconda3\\lib\\site-packages\\seaborn\\distributions.py:2619: FutureWarning: `distplot` is a deprecated function and will be removed in a future version. Please adapt your code to use either `displot` (a figure-level function with similar flexibility) or `histplot` (an axes-level function for histograms).\n",
      "  warnings.warn(msg, FutureWarning)\n"
     ]
    },
    {
     "data": {
      "text/plain": [
       "<AxesSubplot:xlabel='radio', ylabel='Density'>"
      ]
     },
     "execution_count": 62,
     "metadata": {},
     "output_type": "execute_result"
    },
    {
     "data": {
      "image/png": "[encoded data removed]",
      "text/plain": [
       "<Figure size 432x288 with 1 Axes>"
      ]
     },
     "metadata": {
      "needs_background": "light"
     },
     "output_type": "display_data"
    }
   ],
   "source": [
    "sns.distplot(df_new['radio'])"
   ]
  },
  {
   "cell_type": "code",
   "execution_count": 63,
   "id": "9765cdd7",
   "metadata": {},
   "outputs": [
    {
     "data": {
      "text/html": [
       "<div>\n",
       "<style scoped>\n",
       "    .dataframe tbody tr th:only-of-type {\n",
       "        vertical-align: middle;\n",
       "    }\n",
       "\n",
       "    .dataframe tbody tr th {\n",
       "        vertical-align: top;\n",
       "    }\n",
       "\n",
       "    .dataframe thead th {\n",
       "        text-align: right;\n",
       "    }\n",
       "</style>\n",
       "<table border=\"1\" class=\"dataframe\">\n",
       "  <thead>\n",
       "    <tr style=\"text-align: right;\">\n",
       "      <th></th>\n",
       "      <th>TV</th>\n",
       "      <th>radio</th>\n",
       "      <th>newspaper</th>\n",
       "      <th>sales</th>\n",
       "    </tr>\n",
       "  </thead>\n",
       "  <tbody>\n",
       "    <tr>\n",
       "      <th>0</th>\n",
       "      <td>230.1</td>\n",
       "      <td>37.8</td>\n",
       "      <td>69.2</td>\n",
       "      <td>22.1</td>\n",
       "    </tr>\n",
       "    <tr>\n",
       "      <th>1</th>\n",
       "      <td>44.5</td>\n",
       "      <td>39.3</td>\n",
       "      <td>45.1</td>\n",
       "      <td>10.4</td>\n",
       "    </tr>\n",
       "    <tr>\n",
       "      <th>2</th>\n",
       "      <td>17.2</td>\n",
       "      <td>45.9</td>\n",
       "      <td>69.3</td>\n",
       "      <td>9.3</td>\n",
       "    </tr>\n",
       "    <tr>\n",
       "      <th>3</th>\n",
       "      <td>151.5</td>\n",
       "      <td>41.3</td>\n",
       "      <td>58.5</td>\n",
       "      <td>18.5</td>\n",
       "    </tr>\n",
       "    <tr>\n",
       "      <th>4</th>\n",
       "      <td>180.8</td>\n",
       "      <td>10.8</td>\n",
       "      <td>58.4</td>\n",
       "      <td>12.9</td>\n",
       "    </tr>\n",
       "    <tr>\n",
       "      <th>...</th>\n",
       "      <td>...</td>\n",
       "      <td>...</td>\n",
       "      <td>...</td>\n",
       "      <td>...</td>\n",
       "    </tr>\n",
       "    <tr>\n",
       "      <th>195</th>\n",
       "      <td>38.2</td>\n",
       "      <td>3.7</td>\n",
       "      <td>13.8</td>\n",
       "      <td>7.6</td>\n",
       "    </tr>\n",
       "    <tr>\n",
       "      <th>196</th>\n",
       "      <td>94.2</td>\n",
       "      <td>4.9</td>\n",
       "      <td>8.1</td>\n",
       "      <td>9.7</td>\n",
       "    </tr>\n",
       "    <tr>\n",
       "      <th>197</th>\n",
       "      <td>177.0</td>\n",
       "      <td>9.3</td>\n",
       "      <td>6.4</td>\n",
       "      <td>12.8</td>\n",
       "    </tr>\n",
       "    <tr>\n",
       "      <th>198</th>\n",
       "      <td>283.6</td>\n",
       "      <td>42.0</td>\n",
       "      <td>66.2</td>\n",
       "      <td>25.5</td>\n",
       "    </tr>\n",
       "    <tr>\n",
       "      <th>199</th>\n",
       "      <td>232.1</td>\n",
       "      <td>8.6</td>\n",
       "      <td>8.7</td>\n",
       "      <td>13.4</td>\n",
       "    </tr>\n",
       "  </tbody>\n",
       "</table>\n",
       "<p>198 rows × 4 columns</p>\n",
       "</div>"
      ],
      "text/plain": [
       "        TV  radio  newspaper  sales\n",
       "0    230.1   37.8       69.2   22.1\n",
       "1     44.5   39.3       45.1   10.4\n",
       "2     17.2   45.9       69.3    9.3\n",
       "3    151.5   41.3       58.5   18.5\n",
       "4    180.8   10.8       58.4   12.9\n",
       "..     ...    ...        ...    ...\n",
       "195   38.2    3.7       13.8    7.6\n",
       "196   94.2    4.9        8.1    9.7\n",
       "197  177.0    9.3        6.4   12.8\n",
       "198  283.6   42.0       66.2   25.5\n",
       "199  232.1    8.6        8.7   13.4\n",
       "\n",
       "[198 rows x 4 columns]"
      ]
     },
     "execution_count": 63,
     "metadata": {},
     "output_type": "execute_result"
    }
   ],
   "source": [
    "df_new"
   ]
  },
  {
   "cell_type": "code",
   "execution_count": 64,
   "id": "836405c6",
   "metadata": {
    "scrolled": false
   },
   "outputs": [
    {
     "data": {
      "text/plain": [
       "array([[ 0.95598306,  0.9691098 ,  1.6041965 ],\n",
       "       [-1.19200349,  1.04623436,  0.83104401],\n",
       "       [-1.6461253 ,  1.37296802,  1.60705249],\n",
       "       [ 0.14293428,  1.1473316 ,  1.28376774],\n",
       "       [ 0.45645241, -0.73502642,  1.28062154],\n",
       "       [-1.8204008 ,  1.51543955,  1.76610727],\n",
       "       [-1.00349358,  0.70309642, -0.10205346],\n",
       "       [-0.20996049, -0.0876566 , -0.84968895],\n",
       "       [-1.82264543, -1.62948287, -2.09866461],\n",
       "       [ 0.652694  , -1.56152179, -0.22649933],\n",
       "       [-0.88482761, -1.19258569, -0.06553382],\n",
       "       [ 0.80322028,  0.19357553, -1.59608414],\n",
       "       [-1.52567125,  0.82725998,  1.50859232],\n",
       "       [-0.48090308, -1.01613619, -1.23269654],\n",
       "       [ 0.69642374,  0.70856268,  0.86367455],\n",
       "       [ 0.60769456,  1.45886692,  1.1026083 ],\n",
       "       [ 1.44702338,  1.06152278,  1.19771741],\n",
       "       [-0.84304109, -0.02834315, -0.39458775],\n",
       "       [ 0.09676151,  0.18741189, -0.346834  ],\n",
       "       [ 0.84017479,  0.41523303,  1.11921444],\n",
       "       [ 1.02746612, -1.2660875 , -0.10205346],\n",
       "       [-1.72466475, -0.3430802 ,  0.99069777],\n",
       "       [ 0.93826742, -0.27204438,  0.0356758 ],\n",
       "       [-0.93674187, -0.59023588, -0.39458775],\n",
       "       [ 1.27285397, -1.44792482, -0.32336998],\n",
       "       [ 0.04802388,  0.50756488, -0.7740548 ],\n",
       "       [ 1.05376032, -0.28612399, -0.13384051],\n",
       "       [ 1.13797152,  0.38008881, -0.13384051],\n",
       "       [-0.82432769, -0.33590351,  0.66980347],\n",
       "       [ 1.55379249,  0.45008922,  0.76092313],\n",
       "       [-0.29552539, -0.23711359,  0.58357284],\n",
       "       [-0.48458608, -1.71704857,  0.21669702],\n",
       "       [ 1.29846636, -0.06117169, -2.2758464 ],\n",
       "       [-0.50304519, -1.7324148 , -1.21299201],\n",
       "       [ 1.53345233, -1.3771472 , -1.10919482],\n",
       "       [ 1.31077419,  1.27109462, -1.4708598 ],\n",
       "       [-0.77006157,  1.53885314,  0.85283827],\n",
       "       [-1.21308859,  0.35649509,  0.44045973],\n",
       "       [ 0.93531131,  0.96392681,  0.30682057],\n",
       "       [ 0.68018031,  0.08742886,  0.28905461],\n",
       "       [ 0.4165774 ,  0.73579933,  0.58755182],\n",
       "       [ 1.56025605,  0.41523303, -1.93614969],\n",
       "       [ 0.72477076, -0.94246393,  0.04555612],\n",
       "       [-1.50299171,  0.29691633,  0.76465678],\n",
       "       [ 0.39655706,  0.10007132,  0.2845934 ],\n",
       "       [-0.5776425 , -0.81067203,  0.46554742],\n",
       "       [ 1.05181524,  1.15733673, -0.38254334],\n",
       "       [ 0.92742341, -0.35027362,  1.00104316],\n",
       "       [-0.87399682, -0.66162053,  0.51093113],\n",
       "       [ 0.652694  , -1.49718987,  0.41936802],\n",
       "       [-0.44544938, -0.83642883, -1.65023317],\n",
       "       [ 0.82021967,  1.16732335,  0.62310406],\n",
       "       [ 0.47526481,  1.38737344,  1.29005095],\n",
       "       [ 1.27095405,  0.47892195, -0.54515187],\n",
       "       [ 0.6435106 ,  1.53885314,  1.33059751],\n",
       "       [-1.85241088,  0.43850198,  0.6928619 ],\n",
       "       [-0.02694246, -0.11434473, -0.50002298],\n",
       "       [ 0.7640894 ,  1.54819296,  0.54749686],\n",
       "       [ 0.76308359,  0.51896989, -1.03801781],\n",
       "       [-1.06021399, -1.64357954, -0.21538949],\n",
       "       [ 1.25764412,  1.21698291,  1.16198054],\n",
       "       [ 1.04597746, -0.37195568,  0.08950799],\n",
       "       [-0.41751811,  0.52466135, -1.11833294],\n",
       "       [-0.08464536,  1.22192414,  0.16568658],\n",
       "       [-0.84572231, -0.8624742 , -2.12148202],\n",
       "       [-1.39528628,  0.23035564, -1.86501   ],\n",
       "       [ 0.00785902, -0.44537697, -0.96167639],\n",
       "       [ 1.02746612,  0.40355071, -0.89675177],\n",
       "       [ 0.8242145 ,  1.27598779,  0.08466485],\n",
       "       [ 0.64555228,  0.58117899,  0.58755182],\n",
       "       [-0.33228945, -0.46028254,  0.29350789],\n",
       "       [-1.47377148,  0.71402259, -0.33506848],\n",
       "       [-0.10400761, -1.202897  ,  0.27564704],\n",
       "       [ 0.79019725,  0.23035564, -0.73744518],\n",
       "       [-1.65184774,  1.26619715,  2.13937255],\n",
       "       [-1.46187563, -1.70192244, -0.25453031],\n",
       "       [-0.20647326,  0.46164538, -0.65947105],\n",
       "       [-1.89822804,  0.54169198, -1.02934918],\n",
       "       [-0.25902053, -1.00678392, -0.12319395],\n",
       "       [-0.74778651,  0.35649509, -0.16609367],\n",
       "       [ 1.05084254, -1.3771472 ,  0.51501874],\n",
       "       [-0.76218508, -0.04143812,  0.32885333],\n",
       "       [-0.85377796,  1.30525722,  0.46138274],\n",
       "       [ 0.79119975,  1.23179329,  0.38526098],\n",
       "       [ 0.58509675, -0.16835339,  1.50271112],\n",
       "       [-0.74909326,  0.40355071, -0.53863938],\n",
       "       [-0.32158879,  1.11216604,  1.42831665],\n",
       "       [-0.59523084,  0.28489586,  1.72217946],\n",
       "       [-0.33228945,  1.4636021 ,  1.05224719],\n",
       "       [-0.04837336, -1.28768913, -1.03801781],\n",
       "       [-1.44333425, -1.71704857,  0.35069626],\n",
       "       [ 0.8331959 ,  0.74122791,  1.29945293],\n",
       "       [ 1.15818339,  0.90131402,  1.69166052],\n",
       "       [-0.36093577, -0.4827855 , -0.90472726],\n",
       "       [ 0.2709304 ,  0.63699688,  1.1026083 ],\n",
       "       [ 0.63022667, -1.44792482, -1.36815587],\n",
       "       [ 0.49923329,  0.00418624, -0.18240095],\n",
       "       [ 1.52419364,  1.19717332,  1.04546953],\n",
       "       [-0.0382122 ,  1.16732335,  0.86006693],\n",
       "       [ 0.87994389, -1.35429375,  0.99759864],\n",
       "       [ 1.43581778, -0.79365568, -0.21538949],\n",
       "       [ 0.53038105, -0.25104051, -0.41889554],\n",
       "       [ 1.03526502,  0.78443582, -1.43568966],\n",
       "       [-0.00783277,  1.39695704,  1.29945293],\n",
       "       [-1.50472569, -0.71852874,  0.20289058],\n",
       "       [-0.56887482, -1.92277996, -0.11788987],\n",
       "       [-1.72669682, -1.90334954,  0.00577961],\n",
       "       [ 1.20134779,  0.36830859, -1.41277956],\n",
       "       [ 0.91360226, -0.96064272,  1.22025052],\n",
       "       [ 1.06930594,  0.97946003, -0.11788987],\n",
       "       [ 0.40288531, -0.37921745, -1.83137048],\n",
       "       [ 0.75201155, -0.02181365, -0.9207956 ],\n",
       "       [-0.72433929,  1.41607663,  0.41512911],\n",
       "       [-0.76480878,  0.82192754,  1.09594084],\n",
       "       [ 0.00673953, -0.46028254,  0.00577961],\n",
       "       [-0.74778651, -1.83055994, -0.61831443],\n",
       "       [-0.14637764,  0.92227141,  1.87892616],\n",
       "       [-1.60487761, -0.33590351, -0.16609367],\n",
       "       [ 0.03020546,  0.36240602,  0.87087647],\n",
       "       [-1.61600701,  0.04924266,  1.01820721],\n",
       "       [ 0.89579959, -1.58822992, -0.56482448],\n",
       "       [-0.17634363,  0.8005392 , -0.78891695],\n",
       "       [ 0.95008184,  0.67566908,  1.7442111 ],\n",
       "       [-0.60910057, -0.65359273,  0.02077604],\n",
       "       [-1.84082856,  1.02577993,  1.02504572],\n",
       "       [-0.69844865, -1.98495808, -1.04673537],\n",
       "       [ 0.8590884 ,  1.52012963, -1.70718676],\n",
       "       [-0.97412104, -0.63761079,  0.75718457],\n",
       "       [-2.03323356,  1.06152278, -1.09108448],\n",
       "       [ 1.2946762 , -1.52253007,  0.7534411 ],\n",
       "       [-1.82715302,  0.38596655, -1.88228781],\n",
       "       [ 0.85411524,  0.74122791,  0.83104401],\n",
       "       [-1.30867028,  1.0103861 ,  1.49976669],\n",
       "       [-1.13560137,  1.42561279, -1.10919482],\n",
       "       [-1.49434751,  1.03090107, -1.03801781],\n",
       "       [ 1.37490294,  0.48466558,  1.32128542],\n",
       "       [-1.21460127,  0.30890141, -0.2658475 ],\n",
       "       [ 0.49923329,  1.27598779, -1.95484304],\n",
       "       [-0.78718324, -0.2650278 , -0.75199725],\n",
       "       [ 0.59023843,  0.84322253,  1.78244184],\n",
       "       [ 0.86107685,  0.72492349,  0.55555544],\n",
       "       [-0.39456576, -1.202897  ,  0.41088327],\n",
       "       [-0.49688394, -0.42315979,  0.59549238],\n",
       "       [ 0.01904252, -1.65786243, -1.06432036],\n",
       "       [ 1.05376032, -1.04445327, -1.09108448],\n",
       "       [ 1.08385578,  1.52012963,  0.80172759],\n",
       "       [-1.29143203,  1.09702388, -0.82664429],\n",
       "       [-1.1890052 ,  0.30291327, -0.26018131],\n",
       "       [ 1.44048829, -0.49032576,  0.51910011],\n",
       "       [-0.20066619, -0.94246393,  0.95944652],\n",
       "       [ 0.63022667,  0.15022331, -0.65947105],\n",
       "       [ 0.35634693,  1.06660903,  0.54749686],\n",
       "       [ 0.52934487,  0.01065705, -1.02072873],\n",
       "       [-1.93163495, -0.66967326, -1.39027462],\n",
       "       [-0.52529469,  1.25638925,  1.02162839],\n",
       "       [ 0.12428563, -1.74803521, -0.06036496],\n",
       "       [-1.75555556,  0.92227141,  0.83468776],\n",
       "       [-0.07782712, -0.16835339,  0.41936802],\n",
       "       [ 0.36906953, -0.18883181,  0.24861364],\n",
       "       [-0.62808655,  0.86442562,  0.98031676],\n",
       "       [ 0.5355598 , -0.18883181,  0.00577961],\n",
       "       [ 0.2730788 ,  0.91704026, -1.21299201],\n",
       "       [-0.24495734, -0.43054692, -1.42418272],\n",
       "       [ 0.99913782, -1.46007371,  2.02414625],\n",
       "       [-1.63286723,  0.95873855, -0.20433701],\n",
       "       [ 0.72376009, -1.25539136, -0.32921092],\n",
       "       [ 0.81022423,  0.16886223,  1.25534066],\n",
       "       [ 1.47405264, -0.75163452, -1.31443661],\n",
       "       [-1.11073781, -0.66967326, -0.38855655],\n",
       "       [ 0.28381064, -0.00229617,  0.91372099],\n",
       "       [-1.60118681, -0.05458158, -0.47470116],\n",
       "       [ 0.32550506, -1.06355551, -0.75931882],\n",
       "       [ 0.87994389, -1.46007371, -0.73744518],\n",
       "       [ 1.40493806,  1.51543955,  0.70812926],\n",
       "       [ 1.13411664,  0.55865764, -0.27722588],\n",
       "       [ 0.34466429, -0.99747386,  0.44465771],\n",
       "       [ 1.40306351, -1.60181548, -0.09155822],\n",
       "       [ 0.29559622, -0.80214864, -0.43732278],\n",
       "       [ 0.19855946, -1.56152179, -1.12752759],\n",
       "       [ 0.8411713 , -1.23420066,  0.09434122],\n",
       "       [-1.02181379, -1.202897  ,  0.20289058],\n",
       "       [ 1.50472337,  1.23179329,  1.67770049],\n",
       "       [ 1.18602318,  0.02356422,  0.21669702],\n",
       "       [ 0.70554619,  1.33437513, -0.31754553],\n",
       "       [ 0.01009737, -1.62948287,  0.05539471],\n",
       "       [ 0.56346396,  0.47317073, -0.40063711],\n",
       "       [ 1.48986416, -0.49032576, -1.63644784],\n",
       "       [-1.61787038, -0.62965614, -0.1073197 ],\n",
       "       [-1.26812741,  1.13730782, -1.3791681 ],\n",
       "       [-0.75956316, -0.73502642, -1.3572358 ],\n",
       "       [-1.6461253 , -1.3771472 ,  0.28905461],\n",
       "       [ 0.30843016,  1.18226883, -1.65023317],\n",
       "       [ 0.12318696,  0.85383548, -1.3572358 ],\n",
       "       [-1.28831146, -1.42394128, -0.68743455],\n",
       "       [-0.52157887, -1.28768913, -1.14609038],\n",
       "       [ 0.4165774 , -0.8624742 , -1.31443661],\n",
       "       [ 1.4675349 ,  1.18226883,  1.51739504],\n",
       "       [ 0.97562509, -0.92443675, -1.09108448]])"
      ]
     },
     "execution_count": 64,
     "metadata": {},
     "output_type": "execute_result"
    }
   ],
   "source": [
    "from sklearn.preprocessing import StandardScaler\n",
    "sts=StandardScaler()\n",
    "x1=sts.fit_transform(x1)\n",
    "x1"
   ]
  },
  {
   "cell_type": "markdown",
   "id": "35b185c8",
   "metadata": {},
   "source": [
    "Checking for multicolinearity"
   ]
  },
  {
   "cell_type": "code",
   "execution_count": 70,
   "id": "f93b3ab3",
   "metadata": {
    "scrolled": false
   },
   "outputs": [
    {
     "data": {
      "text/html": [
       "<div>\n",
       "<style scoped>\n",
       "    .dataframe tbody tr th:only-of-type {\n",
       "        vertical-align: middle;\n",
       "    }\n",
       "\n",
       "    .dataframe tbody tr th {\n",
       "        vertical-align: top;\n",
       "    }\n",
       "\n",
       "    .dataframe thead th {\n",
       "        text-align: right;\n",
       "    }\n",
       "</style>\n",
       "<table border=\"1\" class=\"dataframe\">\n",
       "  <thead>\n",
       "    <tr style=\"text-align: right;\">\n",
       "      <th></th>\n",
       "      <th>TV</th>\n",
       "      <th>radio</th>\n",
       "      <th>newspaper</th>\n",
       "    </tr>\n",
       "  </thead>\n",
       "  <tbody>\n",
       "    <tr>\n",
       "      <th>0</th>\n",
       "      <td>0.955983</td>\n",
       "      <td>0.969110</td>\n",
       "      <td>1.604196</td>\n",
       "    </tr>\n",
       "    <tr>\n",
       "      <th>1</th>\n",
       "      <td>-1.192003</td>\n",
       "      <td>1.046234</td>\n",
       "      <td>0.831044</td>\n",
       "    </tr>\n",
       "    <tr>\n",
       "      <th>2</th>\n",
       "      <td>-1.646125</td>\n",
       "      <td>1.372968</td>\n",
       "      <td>1.607052</td>\n",
       "    </tr>\n",
       "    <tr>\n",
       "      <th>3</th>\n",
       "      <td>0.142934</td>\n",
       "      <td>1.147332</td>\n",
       "      <td>1.283768</td>\n",
       "    </tr>\n",
       "    <tr>\n",
       "      <th>4</th>\n",
       "      <td>0.456452</td>\n",
       "      <td>-0.735026</td>\n",
       "      <td>1.280622</td>\n",
       "    </tr>\n",
       "    <tr>\n",
       "      <th>...</th>\n",
       "      <td>...</td>\n",
       "      <td>...</td>\n",
       "      <td>...</td>\n",
       "    </tr>\n",
       "    <tr>\n",
       "      <th>193</th>\n",
       "      <td>-1.288311</td>\n",
       "      <td>-1.423941</td>\n",
       "      <td>-0.687435</td>\n",
       "    </tr>\n",
       "    <tr>\n",
       "      <th>194</th>\n",
       "      <td>-0.521579</td>\n",
       "      <td>-1.287689</td>\n",
       "      <td>-1.146090</td>\n",
       "    </tr>\n",
       "    <tr>\n",
       "      <th>195</th>\n",
       "      <td>0.416577</td>\n",
       "      <td>-0.862474</td>\n",
       "      <td>-1.314437</td>\n",
       "    </tr>\n",
       "    <tr>\n",
       "      <th>196</th>\n",
       "      <td>1.467535</td>\n",
       "      <td>1.182269</td>\n",
       "      <td>1.517395</td>\n",
       "    </tr>\n",
       "    <tr>\n",
       "      <th>197</th>\n",
       "      <td>0.975625</td>\n",
       "      <td>-0.924437</td>\n",
       "      <td>-1.091084</td>\n",
       "    </tr>\n",
       "  </tbody>\n",
       "</table>\n",
       "<p>198 rows × 3 columns</p>\n",
       "</div>"
      ],
      "text/plain": [
       "           TV     radio  newspaper\n",
       "0    0.955983  0.969110   1.604196\n",
       "1   -1.192003  1.046234   0.831044\n",
       "2   -1.646125  1.372968   1.607052\n",
       "3    0.142934  1.147332   1.283768\n",
       "4    0.456452 -0.735026   1.280622\n",
       "..        ...       ...        ...\n",
       "193 -1.288311 -1.423941  -0.687435\n",
       "194 -0.521579 -1.287689  -1.146090\n",
       "195  0.416577 -0.862474  -1.314437\n",
       "196  1.467535  1.182269   1.517395\n",
       "197  0.975625 -0.924437  -1.091084\n",
       "\n",
       "[198 rows x 3 columns]"
      ]
     },
     "execution_count": 70,
     "metadata": {},
     "output_type": "execute_result"
    }
   ],
   "source": [
    "x1=pd.DataFrame(x1,columns=['TV','radio','newspaper'])\n",
    "x1"
   ]
  },
  {
   "cell_type": "code",
   "execution_count": 74,
   "id": "4e0d9eaa",
   "metadata": {},
   "outputs": [
    {
     "data": {
      "text/plain": [
       "3"
      ]
     },
     "execution_count": 74,
     "metadata": {},
     "output_type": "execute_result"
    }
   ],
   "source": [
    "x1.shape[1]"
   ]
  },
  {
   "cell_type": "code",
   "execution_count": 75,
   "id": "f6feb64a",
   "metadata": {},
   "outputs": [
    {
     "data": {
      "text/plain": [
       "array([[ 0.95598306,  0.9691098 ,  1.6041965 ],\n",
       "       [-1.19200349,  1.04623436,  0.83104401],\n",
       "       [-1.6461253 ,  1.37296802,  1.60705249],\n",
       "       [ 0.14293428,  1.1473316 ,  1.28376774],\n",
       "       [ 0.45645241, -0.73502642,  1.28062154],\n",
       "       [-1.8204008 ,  1.51543955,  1.76610727],\n",
       "       [-1.00349358,  0.70309642, -0.10205346],\n",
       "       [-0.20996049, -0.0876566 , -0.84968895],\n",
       "       [-1.82264543, -1.62948287, -2.09866461],\n",
       "       [ 0.652694  , -1.56152179, -0.22649933],\n",
       "       [-0.88482761, -1.19258569, -0.06553382],\n",
       "       [ 0.80322028,  0.19357553, -1.59608414],\n",
       "       [-1.52567125,  0.82725998,  1.50859232],\n",
       "       [-0.48090308, -1.01613619, -1.23269654],\n",
       "       [ 0.69642374,  0.70856268,  0.86367455],\n",
       "       [ 0.60769456,  1.45886692,  1.1026083 ],\n",
       "       [ 1.44702338,  1.06152278,  1.19771741],\n",
       "       [-0.84304109, -0.02834315, -0.39458775],\n",
       "       [ 0.09676151,  0.18741189, -0.346834  ],\n",
       "       [ 0.84017479,  0.41523303,  1.11921444],\n",
       "       [ 1.02746612, -1.2660875 , -0.10205346],\n",
       "       [-1.72466475, -0.3430802 ,  0.99069777],\n",
       "       [ 0.93826742, -0.27204438,  0.0356758 ],\n",
       "       [-0.93674187, -0.59023588, -0.39458775],\n",
       "       [ 1.27285397, -1.44792482, -0.32336998],\n",
       "       [ 0.04802388,  0.50756488, -0.7740548 ],\n",
       "       [ 1.05376032, -0.28612399, -0.13384051],\n",
       "       [ 1.13797152,  0.38008881, -0.13384051],\n",
       "       [-0.82432769, -0.33590351,  0.66980347],\n",
       "       [ 1.55379249,  0.45008922,  0.76092313],\n",
       "       [-0.29552539, -0.23711359,  0.58357284],\n",
       "       [-0.48458608, -1.71704857,  0.21669702],\n",
       "       [ 1.29846636, -0.06117169, -2.2758464 ],\n",
       "       [-0.50304519, -1.7324148 , -1.21299201],\n",
       "       [ 1.53345233, -1.3771472 , -1.10919482],\n",
       "       [ 1.31077419,  1.27109462, -1.4708598 ],\n",
       "       [-0.77006157,  1.53885314,  0.85283827],\n",
       "       [-1.21308859,  0.35649509,  0.44045973],\n",
       "       [ 0.93531131,  0.96392681,  0.30682057],\n",
       "       [ 0.68018031,  0.08742886,  0.28905461],\n",
       "       [ 0.4165774 ,  0.73579933,  0.58755182],\n",
       "       [ 1.56025605,  0.41523303, -1.93614969],\n",
       "       [ 0.72477076, -0.94246393,  0.04555612],\n",
       "       [-1.50299171,  0.29691633,  0.76465678],\n",
       "       [ 0.39655706,  0.10007132,  0.2845934 ],\n",
       "       [-0.5776425 , -0.81067203,  0.46554742],\n",
       "       [ 1.05181524,  1.15733673, -0.38254334],\n",
       "       [ 0.92742341, -0.35027362,  1.00104316],\n",
       "       [-0.87399682, -0.66162053,  0.51093113],\n",
       "       [ 0.652694  , -1.49718987,  0.41936802],\n",
       "       [-0.44544938, -0.83642883, -1.65023317],\n",
       "       [ 0.82021967,  1.16732335,  0.62310406],\n",
       "       [ 0.47526481,  1.38737344,  1.29005095],\n",
       "       [ 1.27095405,  0.47892195, -0.54515187],\n",
       "       [ 0.6435106 ,  1.53885314,  1.33059751],\n",
       "       [-1.85241088,  0.43850198,  0.6928619 ],\n",
       "       [-0.02694246, -0.11434473, -0.50002298],\n",
       "       [ 0.7640894 ,  1.54819296,  0.54749686],\n",
       "       [ 0.76308359,  0.51896989, -1.03801781],\n",
       "       [-1.06021399, -1.64357954, -0.21538949],\n",
       "       [ 1.25764412,  1.21698291,  1.16198054],\n",
       "       [ 1.04597746, -0.37195568,  0.08950799],\n",
       "       [-0.41751811,  0.52466135, -1.11833294],\n",
       "       [-0.08464536,  1.22192414,  0.16568658],\n",
       "       [-0.84572231, -0.8624742 , -2.12148202],\n",
       "       [-1.39528628,  0.23035564, -1.86501   ],\n",
       "       [ 0.00785902, -0.44537697, -0.96167639],\n",
       "       [ 1.02746612,  0.40355071, -0.89675177],\n",
       "       [ 0.8242145 ,  1.27598779,  0.08466485],\n",
       "       [ 0.64555228,  0.58117899,  0.58755182],\n",
       "       [-0.33228945, -0.46028254,  0.29350789],\n",
       "       [-1.47377148,  0.71402259, -0.33506848],\n",
       "       [-0.10400761, -1.202897  ,  0.27564704],\n",
       "       [ 0.79019725,  0.23035564, -0.73744518],\n",
       "       [-1.65184774,  1.26619715,  2.13937255],\n",
       "       [-1.46187563, -1.70192244, -0.25453031],\n",
       "       [-0.20647326,  0.46164538, -0.65947105],\n",
       "       [-1.89822804,  0.54169198, -1.02934918],\n",
       "       [-0.25902053, -1.00678392, -0.12319395],\n",
       "       [-0.74778651,  0.35649509, -0.16609367],\n",
       "       [ 1.05084254, -1.3771472 ,  0.51501874],\n",
       "       [-0.76218508, -0.04143812,  0.32885333],\n",
       "       [-0.85377796,  1.30525722,  0.46138274],\n",
       "       [ 0.79119975,  1.23179329,  0.38526098],\n",
       "       [ 0.58509675, -0.16835339,  1.50271112],\n",
       "       [-0.74909326,  0.40355071, -0.53863938],\n",
       "       [-0.32158879,  1.11216604,  1.42831665],\n",
       "       [-0.59523084,  0.28489586,  1.72217946],\n",
       "       [-0.33228945,  1.4636021 ,  1.05224719],\n",
       "       [-0.04837336, -1.28768913, -1.03801781],\n",
       "       [-1.44333425, -1.71704857,  0.35069626],\n",
       "       [ 0.8331959 ,  0.74122791,  1.29945293],\n",
       "       [ 1.15818339,  0.90131402,  1.69166052],\n",
       "       [-0.36093577, -0.4827855 , -0.90472726],\n",
       "       [ 0.2709304 ,  0.63699688,  1.1026083 ],\n",
       "       [ 0.63022667, -1.44792482, -1.36815587],\n",
       "       [ 0.49923329,  0.00418624, -0.18240095],\n",
       "       [ 1.52419364,  1.19717332,  1.04546953],\n",
       "       [-0.0382122 ,  1.16732335,  0.86006693],\n",
       "       [ 0.87994389, -1.35429375,  0.99759864],\n",
       "       [ 1.43581778, -0.79365568, -0.21538949],\n",
       "       [ 0.53038105, -0.25104051, -0.41889554],\n",
       "       [ 1.03526502,  0.78443582, -1.43568966],\n",
       "       [-0.00783277,  1.39695704,  1.29945293],\n",
       "       [-1.50472569, -0.71852874,  0.20289058],\n",
       "       [-0.56887482, -1.92277996, -0.11788987],\n",
       "       [-1.72669682, -1.90334954,  0.00577961],\n",
       "       [ 1.20134779,  0.36830859, -1.41277956],\n",
       "       [ 0.91360226, -0.96064272,  1.22025052],\n",
       "       [ 1.06930594,  0.97946003, -0.11788987],\n",
       "       [ 0.40288531, -0.37921745, -1.83137048],\n",
       "       [ 0.75201155, -0.02181365, -0.9207956 ],\n",
       "       [-0.72433929,  1.41607663,  0.41512911],\n",
       "       [-0.76480878,  0.82192754,  1.09594084],\n",
       "       [ 0.00673953, -0.46028254,  0.00577961],\n",
       "       [-0.74778651, -1.83055994, -0.61831443],\n",
       "       [-0.14637764,  0.92227141,  1.87892616],\n",
       "       [-1.60487761, -0.33590351, -0.16609367],\n",
       "       [ 0.03020546,  0.36240602,  0.87087647],\n",
       "       [-1.61600701,  0.04924266,  1.01820721],\n",
       "       [ 0.89579959, -1.58822992, -0.56482448],\n",
       "       [-0.17634363,  0.8005392 , -0.78891695],\n",
       "       [ 0.95008184,  0.67566908,  1.7442111 ],\n",
       "       [-0.60910057, -0.65359273,  0.02077604],\n",
       "       [-1.84082856,  1.02577993,  1.02504572],\n",
       "       [-0.69844865, -1.98495808, -1.04673537],\n",
       "       [ 0.8590884 ,  1.52012963, -1.70718676],\n",
       "       [-0.97412104, -0.63761079,  0.75718457],\n",
       "       [-2.03323356,  1.06152278, -1.09108448],\n",
       "       [ 1.2946762 , -1.52253007,  0.7534411 ],\n",
       "       [-1.82715302,  0.38596655, -1.88228781],\n",
       "       [ 0.85411524,  0.74122791,  0.83104401],\n",
       "       [-1.30867028,  1.0103861 ,  1.49976669],\n",
       "       [-1.13560137,  1.42561279, -1.10919482],\n",
       "       [-1.49434751,  1.03090107, -1.03801781],\n",
       "       [ 1.37490294,  0.48466558,  1.32128542],\n",
       "       [-1.21460127,  0.30890141, -0.2658475 ],\n",
       "       [ 0.49923329,  1.27598779, -1.95484304],\n",
       "       [-0.78718324, -0.2650278 , -0.75199725],\n",
       "       [ 0.59023843,  0.84322253,  1.78244184],\n",
       "       [ 0.86107685,  0.72492349,  0.55555544],\n",
       "       [-0.39456576, -1.202897  ,  0.41088327],\n",
       "       [-0.49688394, -0.42315979,  0.59549238],\n",
       "       [ 0.01904252, -1.65786243, -1.06432036],\n",
       "       [ 1.05376032, -1.04445327, -1.09108448],\n",
       "       [ 1.08385578,  1.52012963,  0.80172759],\n",
       "       [-1.29143203,  1.09702388, -0.82664429],\n",
       "       [-1.1890052 ,  0.30291327, -0.26018131],\n",
       "       [ 1.44048829, -0.49032576,  0.51910011],\n",
       "       [-0.20066619, -0.94246393,  0.95944652],\n",
       "       [ 0.63022667,  0.15022331, -0.65947105],\n",
       "       [ 0.35634693,  1.06660903,  0.54749686],\n",
       "       [ 0.52934487,  0.01065705, -1.02072873],\n",
       "       [-1.93163495, -0.66967326, -1.39027462],\n",
       "       [-0.52529469,  1.25638925,  1.02162839],\n",
       "       [ 0.12428563, -1.74803521, -0.06036496],\n",
       "       [-1.75555556,  0.92227141,  0.83468776],\n",
       "       [-0.07782712, -0.16835339,  0.41936802],\n",
       "       [ 0.36906953, -0.18883181,  0.24861364],\n",
       "       [-0.62808655,  0.86442562,  0.98031676],\n",
       "       [ 0.5355598 , -0.18883181,  0.00577961],\n",
       "       [ 0.2730788 ,  0.91704026, -1.21299201],\n",
       "       [-0.24495734, -0.43054692, -1.42418272],\n",
       "       [ 0.99913782, -1.46007371,  2.02414625],\n",
       "       [-1.63286723,  0.95873855, -0.20433701],\n",
       "       [ 0.72376009, -1.25539136, -0.32921092],\n",
       "       [ 0.81022423,  0.16886223,  1.25534066],\n",
       "       [ 1.47405264, -0.75163452, -1.31443661],\n",
       "       [-1.11073781, -0.66967326, -0.38855655],\n",
       "       [ 0.28381064, -0.00229617,  0.91372099],\n",
       "       [-1.60118681, -0.05458158, -0.47470116],\n",
       "       [ 0.32550506, -1.06355551, -0.75931882],\n",
       "       [ 0.87994389, -1.46007371, -0.73744518],\n",
       "       [ 1.40493806,  1.51543955,  0.70812926],\n",
       "       [ 1.13411664,  0.55865764, -0.27722588],\n",
       "       [ 0.34466429, -0.99747386,  0.44465771],\n",
       "       [ 1.40306351, -1.60181548, -0.09155822],\n",
       "       [ 0.29559622, -0.80214864, -0.43732278],\n",
       "       [ 0.19855946, -1.56152179, -1.12752759],\n",
       "       [ 0.8411713 , -1.23420066,  0.09434122],\n",
       "       [-1.02181379, -1.202897  ,  0.20289058],\n",
       "       [ 1.50472337,  1.23179329,  1.67770049],\n",
       "       [ 1.18602318,  0.02356422,  0.21669702],\n",
       "       [ 0.70554619,  1.33437513, -0.31754553],\n",
       "       [ 0.01009737, -1.62948287,  0.05539471],\n",
       "       [ 0.56346396,  0.47317073, -0.40063711],\n",
       "       [ 1.48986416, -0.49032576, -1.63644784],\n",
       "       [-1.61787038, -0.62965614, -0.1073197 ],\n",
       "       [-1.26812741,  1.13730782, -1.3791681 ],\n",
       "       [-0.75956316, -0.73502642, -1.3572358 ],\n",
       "       [-1.6461253 , -1.3771472 ,  0.28905461],\n",
       "       [ 0.30843016,  1.18226883, -1.65023317],\n",
       "       [ 0.12318696,  0.85383548, -1.3572358 ],\n",
       "       [-1.28831146, -1.42394128, -0.68743455],\n",
       "       [-0.52157887, -1.28768913, -1.14609038],\n",
       "       [ 0.4165774 , -0.8624742 , -1.31443661],\n",
       "       [ 1.4675349 ,  1.18226883,  1.51739504],\n",
       "       [ 0.97562509, -0.92443675, -1.09108448]])"
      ]
     },
     "execution_count": 75,
     "metadata": {},
     "output_type": "execute_result"
    }
   ],
   "source": [
    "x1.values"
   ]
  },
  {
   "cell_type": "code",
   "execution_count": null,
   "id": "98eb075e",
   "metadata": {},
   "outputs": [],
   "source": []
  },
  {
   "cell_type": "code",
   "execution_count": 76,
   "id": "d97bbef0",
   "metadata": {},
   "outputs": [
    {
     "data": {
      "text/html": [
       "<div>\n",
       "<style scoped>\n",
       "    .dataframe tbody tr th:only-of-type {\n",
       "        vertical-align: middle;\n",
       "    }\n",
       "\n",
       "    .dataframe tbody tr th {\n",
       "        vertical-align: top;\n",
       "    }\n",
       "\n",
       "    .dataframe thead th {\n",
       "        text-align: right;\n",
       "    }\n",
       "</style>\n",
       "<table border=\"1\" class=\"dataframe\">\n",
       "  <thead>\n",
       "    <tr style=\"text-align: right;\">\n",
       "      <th></th>\n",
       "      <th>Features</th>\n",
       "      <th>VIF</th>\n",
       "    </tr>\n",
       "  </thead>\n",
       "  <tbody>\n",
       "    <tr>\n",
       "      <th>0</th>\n",
       "      <td>TV</td>\n",
       "      <td>1.002693</td>\n",
       "    </tr>\n",
       "    <tr>\n",
       "      <th>1</th>\n",
       "      <td>radio</td>\n",
       "      <td>1.088710</td>\n",
       "    </tr>\n",
       "    <tr>\n",
       "      <th>2</th>\n",
       "      <td>newspaper</td>\n",
       "      <td>1.087940</td>\n",
       "    </tr>\n",
       "  </tbody>\n",
       "</table>\n",
       "</div>"
      ],
      "text/plain": [
       "    Features       VIF\n",
       "0         TV  1.002693\n",
       "1      radio  1.088710\n",
       "2  newspaper  1.087940"
      ]
     },
     "execution_count": 76,
     "metadata": {},
     "output_type": "execute_result"
    }
   ],
   "source": [
    "from statsmodels.stats.outliers_influence import variance_inflation_factor\n",
    "\n",
    "vif=pd.DataFrame()\n",
    "vif['Features']=x1.columns\n",
    "vif['VIF']=[variance_inflation_factor(x1.values,i) for i in range(x1.shape[1])]\n",
    "vif"
   ]
  },
  {
   "cell_type": "markdown",
   "id": "87542f70",
   "metadata": {},
   "source": [
    "No multicollinearity present"
   ]
  },
  {
   "cell_type": "code",
   "execution_count": 79,
   "id": "a63b74a4",
   "metadata": {},
   "outputs": [],
   "source": [
    "from sklearn.model_selection import train_test_split\n",
    "from sklearn.metrics import mean_squared_error,mean_absolute_error,r2_score"
   ]
  },
  {
   "cell_type": "markdown",
   "id": "76a6a25e",
   "metadata": {},
   "source": [
    "initial dataset"
   ]
  },
  {
   "cell_type": "code",
   "execution_count": 95,
   "id": "9dedb77a",
   "metadata": {},
   "outputs": [],
   "source": [
    "train_x,test_x,train_y,test_y=train_test_split(x,y,test_size=.20,random_state=43)"
   ]
  },
  {
   "cell_type": "code",
   "execution_count": 96,
   "id": "7611079e",
   "metadata": {},
   "outputs": [],
   "source": [
    "from sklearn.linear_model import LinearRegression\n",
    "from sklearn.tree import DecisionTreeRegressor\n",
    "from sklearn.svm import SVR\n",
    "from sklearn.neighbors import KNeighborsRegressor\n",
    "lr=LinearRegression()\n",
    "dtr=DecisionTreeRegressor()\n",
    "svr=SVR()\n",
    "knn=KNeighborsRegressor()"
   ]
  },
  {
   "cell_type": "code",
   "execution_count": 97,
   "id": "339d9a00",
   "metadata": {},
   "outputs": [
    {
     "name": "stdout",
     "output_type": "stream",
     "text": [
      "Accuracy score of  LinearRegression() is\n",
      "2.0550247934413575\n",
      "1.1579489313567057\n",
      "0.9170280742059734\n",
      "Accuracy score of  DecisionTreeRegressor() is\n",
      "0.7022499999999998\n",
      "0.6474999999999999\n",
      "0.976199750940434\n",
      "Accuracy score of  SVR() is\n",
      "3.965111978625194\n",
      "1.3485597572989607\n",
      "0.7604455170562057\n",
      "Accuracy score of  KNeighborsRegressor() is\n",
      "1.6205500000000002\n",
      "0.8875000000000002\n",
      "0.9309934945011699\n"
     ]
    }
   ],
   "source": [
    "model=[lr,dtr,svr,knn]\n",
    "\n",
    "for m in model:\n",
    "    m.fit(train_x,train_y)\n",
    "    pred=m.predict(test_x)\n",
    "    print(\"Accuracy score of \",m, 'is')\n",
    "    print(mean_squared_error(pred,test_y))\n",
    "    print(mean_absolute_error(pred,test_y))\n",
    "    print(r2_score(pred,test_y))"
   ]
  },
  {
   "cell_type": "markdown",
   "id": "3a206285",
   "metadata": {},
   "source": [
    "Here Decision Tree is working better than others."
   ]
  },
  {
   "cell_type": "code",
   "execution_count": null,
   "id": "fee9d31a",
   "metadata": {},
   "outputs": [],
   "source": []
  },
  {
   "cell_type": "code",
   "execution_count": 112,
   "id": "d412257d",
   "metadata": {},
   "outputs": [],
   "source": [
    "train_x1,test_x1,train_y1,test_y1=train_test_split(x1,y1,test_size=.20,random_state=43)"
   ]
  },
  {
   "cell_type": "code",
   "execution_count": 113,
   "id": "a162a389",
   "metadata": {},
   "outputs": [
    {
     "name": "stdout",
     "output_type": "stream",
     "text": [
      "Accuracy score of  LinearRegression() is\n",
      "3.3166873985581207\n",
      "1.1944189893070707\n",
      "0.8733963292086921\n",
      "0.906284916634118\n",
      "Accuracy score of  DecisionTreeRegressor() is\n",
      "1.3824999999999998\n",
      "0.76\n",
      "0.955915310361596\n",
      "1.0\n",
      "Accuracy score of  SVR() is\n",
      "2.566806891995146\n",
      "0.9447055133159686\n",
      "0.8791207532497499\n",
      "0.9304429534201257\n",
      "Accuracy score of  KNeighborsRegressor() is\n",
      "2.5080800000000005\n",
      "0.9219999999999999\n",
      "0.9019941971903925\n",
      "0.9615823689473956\n"
     ]
    }
   ],
   "source": [
    "from sklearn.linear_model import LinearRegression\n",
    "from sklearn.tree import DecisionTreeRegressor\n",
    "from sklearn.svm import SVR\n",
    "from sklearn.neighbors import KNeighborsRegressor\n",
    "lr1=LinearRegression()\n",
    "dtr1=DecisionTreeRegressor()\n",
    "svr1=SVR()\n",
    "knn1=KNeighborsRegressor()\n",
    "\n",
    "model=[lr1,dtr1,svr1,knn1]\n",
    "\n",
    "for m in model:\n",
    "    m.fit(train_x1,train_y1)\n",
    "    pred=m.predict(test_x1)\n",
    "    print(\"Accuracy score of \",m, 'is')\n",
    "    print(mean_squared_error(pred,test_y1))\n",
    "    print(mean_absolute_error(pred,test_y1))\n",
    "    print(r2_score(pred,test_y1))\n",
    "    print(m.score(train_x1,train_y1))"
   ]
  },
  {
   "cell_type": "markdown",
   "id": "04413e73",
   "metadata": {},
   "source": [
    "On the scaled dataset, DecisionTreeRegressor is working better than all."
   ]
  },
  {
   "cell_type": "code",
   "execution_count": 114,
   "id": "651be0c5",
   "metadata": {},
   "outputs": [],
   "source": [
    "import joblib\n",
    "joblib.dump(dtr,'Advertising_sale.obj')\n",
    "Advertising_sale=joblib.load('Advertising_sale.obj')"
   ]
  },
  {
   "cell_type": "code",
   "execution_count": 115,
   "id": "2a42153d",
   "metadata": {},
   "outputs": [
    {
     "data": {
      "text/plain": [
       "array([ 5.6, 21.7, 14.4, 15.9, 25.5, 20.2,  9.7,  9.3, 12. ,  6.6, 12.4,\n",
       "       10.9, 20.1, 22.3, 15.9,  9.6, 17. , 13.2, 20.7, 23.2,  9.2, 18.9,\n",
       "       24.2, 20.2,  6.6,  9.5, 18.9, 17. , 12. , 24.7, 15.5, 12.5,  6.9,\n",
       "       11. , 10.8, 13.2,  9.6, 15.5,  8.1, 14.4])"
      ]
     },
     "execution_count": 115,
     "metadata": {},
     "output_type": "execute_result"
    }
   ],
   "source": [
    "Advertising_sale.predict(test_x1)"
   ]
  },
  {
   "cell_type": "code",
   "execution_count": 118,
   "id": "4eeff5a9",
   "metadata": {},
   "outputs": [
    {
     "name": "stderr",
     "output_type": "stream",
     "text": [
      "C:\\Users\\Mahavir Computers\\AppData\\Roaming\\Python\\Python39\\site-packages\\sklearn\\base.py:450: UserWarning: X does not have valid feature names, but DecisionTreeRegressor was fitted with feature names\n",
      "  warnings.warn(\n",
      "C:\\Users\\Mahavir Computers\\AppData\\Roaming\\Python\\Python39\\site-packages\\sklearn\\base.py:450: UserWarning: X does not have valid feature names, but DecisionTreeRegressor was fitted with feature names\n",
      "  warnings.warn(\n"
     ]
    },
    {
     "data": {
      "text/plain": [
       "array([26.2])"
      ]
     },
     "execution_count": 118,
     "metadata": {},
     "output_type": "execute_result"
    }
   ],
   "source": [
    "Advertising_sale.predict([[230.1,37.8,69.2]])"
   ]
  },
  {
   "cell_type": "code",
   "execution_count": 184,
   "id": "dce02ea6",
   "metadata": {},
   "outputs": [
    {
     "name": "stderr",
     "output_type": "stream",
     "text": [
      "C:\\Users\\Mahavir Computers\\AppData\\Roaming\\Python\\Python39\\site-packages\\sklearn\\base.py:450: UserWarning: X does not have valid feature names, but DecisionTreeRegressor was fitted with feature names\n",
      "  warnings.warn(\n"
     ]
    },
    {
     "data": {
      "text/plain": [
       "array([26.2])"
      ]
     },
     "execution_count": 184,
     "metadata": {},
     "output_type": "execute_result"
    }
   ],
   "source": [
    "Advertising_sale.predict([[232.1,8.6,8.7]])"
   ]
  },
  {
   "cell_type": "code",
   "execution_count": 275,
   "id": "4e2a2468",
   "metadata": {},
   "outputs": [
    {
     "name": "stdout",
     "output_type": "stream",
     "text": [
      "32.47429875020028\n",
      "4.8255063291139235\n",
      "-1.0291516075670557e+31\n",
      "1.0\n"
     ]
    }
   ],
   "source": [
    "from sklearn.linear_model import Lasso,Ridge,ElasticNet\n",
    "ls=Lasso(alpha=10)\n",
    "ls.fit(train_x1,train_y1)\n",
    "pred_cross_validation=ls.predict(test_x1)\n",
    "print(mean_squared_error(pred_cross_validation,test_y1))\n",
    "print(mean_absolute_error(pred_cross_validation,test_y1))\n",
    "print(r2_score(pred_cross_validation,test_y1))\n",
    "print(m.score(train_x1,train_y1))"
   ]
  },
  {
   "cell_type": "code",
   "execution_count": 276,
   "id": "32bf9456",
   "metadata": {},
   "outputs": [
    {
     "name": "stderr",
     "output_type": "stream",
     "text": [
      "C:\\Users\\Mahavir Computers\\AppData\\Roaming\\Python\\Python39\\site-packages\\sklearn\\base.py:450: UserWarning: X does not have valid feature names, but Lasso was fitted with feature names\n",
      "  warnings.warn(\n"
     ]
    },
    {
     "data": {
      "text/plain": [
       "array([13.86012658])"
      ]
     },
     "execution_count": 276,
     "metadata": {},
     "output_type": "execute_result"
    }
   ],
   "source": [
    "ls.predict([[232.1,8.6,8.7]])"
   ]
  },
  {
   "cell_type": "code",
   "execution_count": 277,
   "id": "00cb041a",
   "metadata": {},
   "outputs": [
    {
     "name": "stdout",
     "output_type": "stream",
     "text": [
      "3.541682503082592\n",
      "1.2276815856682077\n",
      "0.8467665701185149\n",
      "1.0\n"
     ]
    }
   ],
   "source": [
    "rd=Ridge(alpha=10)\n",
    "rd.fit(train_x1,train_y1)\n",
    "pred_cross_validation1=rd.predict(test_x1)\n",
    "print(mean_squared_error(pred_cross_validation1,test_y1))\n",
    "print(mean_absolute_error(pred_cross_validation1,test_y1))\n",
    "print(r2_score(pred_cross_validation1,test_y1))\n",
    "print(m.score(train_x1,train_y1))"
   ]
  },
  {
   "cell_type": "code",
   "execution_count": 278,
   "id": "1dcc4ce3",
   "metadata": {},
   "outputs": [
    {
     "name": "stderr",
     "output_type": "stream",
     "text": [
      "C:\\Users\\Mahavir Computers\\AppData\\Roaming\\Python\\Python39\\site-packages\\sklearn\\base.py:450: UserWarning: X does not have valid feature names, but Lasso was fitted with feature names\n",
      "  warnings.warn(\n"
     ]
    },
    {
     "data": {
      "text/plain": [
       "array([13.86012658])"
      ]
     },
     "execution_count": 278,
     "metadata": {},
     "output_type": "execute_result"
    }
   ],
   "source": [
    "ls.predict([[232.1,8.6,8.7]])"
   ]
  },
  {
   "cell_type": "code",
   "execution_count": 279,
   "id": "4cdcafc3",
   "metadata": {},
   "outputs": [
    {
     "data": {
      "text/plain": [
       "array([0., 0., 0.])"
      ]
     },
     "execution_count": 279,
     "metadata": {},
     "output_type": "execute_result"
    }
   ],
   "source": [
    "ls.coef_"
   ]
  },
  {
   "cell_type": "code",
   "execution_count": 280,
   "id": "de828115",
   "metadata": {},
   "outputs": [
    {
     "data": {
      "text/plain": [
       "array([3.59241627, 2.68183795, 0.03316716])"
      ]
     },
     "execution_count": 280,
     "metadata": {},
     "output_type": "execute_result"
    }
   ],
   "source": [
    "rd.coef_"
   ]
  },
  {
   "cell_type": "code",
   "execution_count": 283,
   "id": "33d1b23c",
   "metadata": {},
   "outputs": [
    {
     "name": "stdout",
     "output_type": "stream",
     "text": [
      "3.541682503082592\n",
      "1.2276815856682077\n",
      "0.8467665701185149\n",
      "1.0\n"
     ]
    }
   ],
   "source": [
    "elr=ElasticNet(alpha=0.01)\n",
    "elr.fit(train_x1,train_y1)\n",
    "pred_cross_validation2=rd.predict(test_x1)\n",
    "print(mean_squared_error(pred_cross_validation2,test_y1))\n",
    "print(mean_absolute_error(pred_cross_validation2,test_y1))\n",
    "print(r2_score(pred_cross_validation2,test_y1))\n",
    "print(m.score(train_x1,train_y1))"
   ]
  },
  {
   "cell_type": "code",
   "execution_count": 284,
   "id": "7fce1629",
   "metadata": {},
   "outputs": [
    {
     "data": {
      "text/plain": [
       "array([ 3.80549409,  2.83303419, -0.01699924])"
      ]
     },
     "execution_count": 284,
     "metadata": {},
     "output_type": "execute_result"
    }
   ],
   "source": [
    "elr.coef_"
   ]
  },
  {
   "cell_type": "code",
   "execution_count": null,
   "id": "ef3e4d68",
   "metadata": {},
   "outputs": [],
   "source": []
  },
  {
   "cell_type": "code",
   "execution_count": null,
   "id": "fe6aa170",
   "metadata": {},
   "outputs": [],
   "source": []
  }
 ],
 "metadata": {
  "kernelspec": {
   "display_name": "Python 3 (ipykernel)",
   "language": "python",
   "name": "python3"
  },
  "language_info": {
   "codemirror_mode": {
    "name": "ipython",
    "version": 3
   },
   "file_extension": ".py",
   "mimetype": "text/x-python",
   "name": "python",
   "nbconvert_exporter": "python",
   "pygments_lexer": "ipython3",
   "version": "3.9.7"
  }
 },
 "nbformat": 4,
 "nbformat_minor": 5
}
